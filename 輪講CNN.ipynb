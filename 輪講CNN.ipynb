{
  "nbformat": 4,
  "nbformat_minor": 0,
  "metadata": {
    "colab": {
      "provenance": [],
      "collapsed_sections": [
        "frq6H2ZnbTVy",
        "JFmCCy1mBfcI",
        "Tcc1u3rSEzea",
        "tPCuiD1YhhKV",
        "hrEbGeWoE5qK",
        "JFIn-XnAOQA6",
        "1t6Raj6WAs0j",
        "89gP58EWe_ze",
        "P8ikeGa0-2rh",
        "emz8wFNMAMOx",
        "ph4E1xn3AOxy",
        "VN-_2YhpAagC",
        "mw9u1RuU1H5x"
      ],
      "authorship_tag": "ABX9TyPzKg461v1QdaN2c2AsKvue"
    },
    "kernelspec": {
      "name": "python3",
      "display_name": "Python 3"
    },
    "language_info": {
      "name": "python"
    },
    "gpuClass": "standard",
    "accelerator": "GPU"
  },
  "cells": [
    {
      "cell_type": "code",
      "execution_count": null,
      "metadata": {
        "id": "hVtcxgpoVzM1",
        "colab": {
          "base_uri": "https://localhost:8080/"
        },
        "outputId": "b52d2698-9df6-4740-dadd-d2c7db975de2"
      },
      "outputs": [
        {
          "output_type": "stream",
          "name": "stdout",
          "text": [
            "Mounted at /content/drive/\n"
          ]
        }
      ],
      "source": [
        "from google.colab import drive\n",
        "drive.mount('/content/drive/')"
      ]
    },
    {
      "cell_type": "code",
      "source": [
        "#import cupy as cp\n",
        "import numpy as np\n",
        "import pandas as pd\n",
        "import matplotlib as mpl\n",
        "import matplotlib.pyplot as plt\n",
        "import wave\n",
        "from PIL import Image\n",
        "import glob\n",
        "import sys, os\n",
        "import time\n",
        "from subprocess import run, PIPE\n",
        "import cv2\n",
        "from IPython.display import Image, display\n",
        "import pprint\n",
        "from keras.preprocessing.image import load_img,img_to_array\n",
        "import keras\n",
        "from tqdm import tqdm\n",
        "from keras.layers.core import Activation, Dense"
      ],
      "metadata": {
        "id": "5dL73DgYVftU"
      },
      "execution_count": null,
      "outputs": []
    },
    {
      "cell_type": "markdown",
      "source": [
        "Tensorflowの読み込み"
      ],
      "metadata": {
        "id": "FluHmNX6iOwW"
      }
    },
    {
      "cell_type": "code",
      "source": [
        "from __future__ import absolute_import, division, print_function, unicode_literals\n",
        "import tensorflow as tf\n",
        "from tensorflow.keras import datasets, layers, models"
      ],
      "metadata": {
        "id": "AmNGI2IdiG8H"
      },
      "execution_count": null,
      "outputs": []
    },
    {
      "cell_type": "markdown",
      "source": [
        "# モジュールたち\n",
        "これはもう触らなくてよし"
      ],
      "metadata": {
        "id": "frq6H2ZnbTVy"
      }
    },
    {
      "cell_type": "markdown",
      "source": [
        "##CSV書き換え"
      ],
      "metadata": {
        "id": "JFmCCy1mBfcI"
      }
    },
    {
      "cell_type": "code",
      "source": [
        "df = pd.read_csv('/content/UrbanSound8K.csv')\n",
        "df"
      ],
      "metadata": {
        "id": "6xop8qu-bdDQ"
      },
      "execution_count": null,
      "outputs": []
    },
    {
      "cell_type": "code",
      "source": [
        "slice_file_name_wav = df['slice_file_name']\n",
        "slice_file_name_wav"
      ],
      "metadata": {
        "id": "vhX2JRJ0dD9g"
      },
      "execution_count": null,
      "outputs": []
    },
    {
      "cell_type": "code",
      "source": [
        "slice_file_name_png = []\n",
        "for i in range(len(slice_file_name_wav)):\n",
        "  name, ext = os.path.splitext(os.path.basename(slice_file_name_wav[i]))\n",
        "  slice_file_name_png.append(name + '.png')\n",
        "\n",
        "slice_file_name_png"
      ],
      "metadata": {
        "id": "6IIhmJL6d3PB"
      },
      "execution_count": null,
      "outputs": []
    },
    {
      "cell_type": "code",
      "source": [
        "df.insert(1,'slice_file_name_png', slice_file_name_png)"
      ],
      "metadata": {
        "id": "Zi9RYcRffc9v"
      },
      "execution_count": null,
      "outputs": []
    },
    {
      "cell_type": "code",
      "source": [
        "df"
      ],
      "metadata": {
        "colab": {
          "base_uri": "https://localhost:8080/"
        },
        "id": "R9E2VfRFgf8H",
        "outputId": "ed4e3c21-09a8-4f90-f678-898b4bb2e8e4"
      },
      "execution_count": null,
      "outputs": [
        {
          "output_type": "execute_result",
          "data": {
            "text/plain": [
              "         slice_file_name slice_file_name_png    fsID       start         end  \\\n",
              "0       100032-3-0-0.wav    100032-3-0-0.png  100032    0.000000    0.317551   \n",
              "1     100263-2-0-117.wav  100263-2-0-117.png  100263   58.500000   62.500000   \n",
              "2     100263-2-0-121.wav  100263-2-0-121.png  100263   60.500000   64.500000   \n",
              "3     100263-2-0-126.wav  100263-2-0-126.png  100263   63.000000   67.000000   \n",
              "4     100263-2-0-137.wav  100263-2-0-137.png  100263   68.500000   72.500000   \n",
              "...                  ...                 ...     ...         ...         ...   \n",
              "8727     99812-1-2-0.wav     99812-1-2-0.png   99812  159.522205  163.522205   \n",
              "8728     99812-1-3-0.wav     99812-1-3-0.png   99812  181.142431  183.284976   \n",
              "8729     99812-1-4-0.wav     99812-1-4-0.png   99812  242.691902  246.197885   \n",
              "8730     99812-1-5-0.wav     99812-1-5-0.png   99812  253.209850  255.741948   \n",
              "8731     99812-1-6-0.wav     99812-1-6-0.png   99812  332.289233  334.821332   \n",
              "\n",
              "      salience  fold  classID             class  \n",
              "0            1     5        3          dog_bark  \n",
              "1            1     5        2  children_playing  \n",
              "2            1     5        2  children_playing  \n",
              "3            1     5        2  children_playing  \n",
              "4            1     5        2  children_playing  \n",
              "...        ...   ...      ...               ...  \n",
              "8727         2     7        1          car_horn  \n",
              "8728         2     7        1          car_horn  \n",
              "8729         2     7        1          car_horn  \n",
              "8730         2     7        1          car_horn  \n",
              "8731         2     7        1          car_horn  \n",
              "\n",
              "[8732 rows x 9 columns]"
            ],
            "text/html": [
              "\n",
              "  <div id=\"df-c497aedb-aeb1-40c6-a243-ee6faf885e4e\">\n",
              "    <div class=\"colab-df-container\">\n",
              "      <div>\n",
              "<style scoped>\n",
              "    .dataframe tbody tr th:only-of-type {\n",
              "        vertical-align: middle;\n",
              "    }\n",
              "\n",
              "    .dataframe tbody tr th {\n",
              "        vertical-align: top;\n",
              "    }\n",
              "\n",
              "    .dataframe thead th {\n",
              "        text-align: right;\n",
              "    }\n",
              "</style>\n",
              "<table border=\"1\" class=\"dataframe\">\n",
              "  <thead>\n",
              "    <tr style=\"text-align: right;\">\n",
              "      <th></th>\n",
              "      <th>slice_file_name</th>\n",
              "      <th>slice_file_name_png</th>\n",
              "      <th>fsID</th>\n",
              "      <th>start</th>\n",
              "      <th>end</th>\n",
              "      <th>salience</th>\n",
              "      <th>fold</th>\n",
              "      <th>classID</th>\n",
              "      <th>class</th>\n",
              "    </tr>\n",
              "  </thead>\n",
              "  <tbody>\n",
              "    <tr>\n",
              "      <th>0</th>\n",
              "      <td>100032-3-0-0.wav</td>\n",
              "      <td>100032-3-0-0.png</td>\n",
              "      <td>100032</td>\n",
              "      <td>0.000000</td>\n",
              "      <td>0.317551</td>\n",
              "      <td>1</td>\n",
              "      <td>5</td>\n",
              "      <td>3</td>\n",
              "      <td>dog_bark</td>\n",
              "    </tr>\n",
              "    <tr>\n",
              "      <th>1</th>\n",
              "      <td>100263-2-0-117.wav</td>\n",
              "      <td>100263-2-0-117.png</td>\n",
              "      <td>100263</td>\n",
              "      <td>58.500000</td>\n",
              "      <td>62.500000</td>\n",
              "      <td>1</td>\n",
              "      <td>5</td>\n",
              "      <td>2</td>\n",
              "      <td>children_playing</td>\n",
              "    </tr>\n",
              "    <tr>\n",
              "      <th>2</th>\n",
              "      <td>100263-2-0-121.wav</td>\n",
              "      <td>100263-2-0-121.png</td>\n",
              "      <td>100263</td>\n",
              "      <td>60.500000</td>\n",
              "      <td>64.500000</td>\n",
              "      <td>1</td>\n",
              "      <td>5</td>\n",
              "      <td>2</td>\n",
              "      <td>children_playing</td>\n",
              "    </tr>\n",
              "    <tr>\n",
              "      <th>3</th>\n",
              "      <td>100263-2-0-126.wav</td>\n",
              "      <td>100263-2-0-126.png</td>\n",
              "      <td>100263</td>\n",
              "      <td>63.000000</td>\n",
              "      <td>67.000000</td>\n",
              "      <td>1</td>\n",
              "      <td>5</td>\n",
              "      <td>2</td>\n",
              "      <td>children_playing</td>\n",
              "    </tr>\n",
              "    <tr>\n",
              "      <th>4</th>\n",
              "      <td>100263-2-0-137.wav</td>\n",
              "      <td>100263-2-0-137.png</td>\n",
              "      <td>100263</td>\n",
              "      <td>68.500000</td>\n",
              "      <td>72.500000</td>\n",
              "      <td>1</td>\n",
              "      <td>5</td>\n",
              "      <td>2</td>\n",
              "      <td>children_playing</td>\n",
              "    </tr>\n",
              "    <tr>\n",
              "      <th>...</th>\n",
              "      <td>...</td>\n",
              "      <td>...</td>\n",
              "      <td>...</td>\n",
              "      <td>...</td>\n",
              "      <td>...</td>\n",
              "      <td>...</td>\n",
              "      <td>...</td>\n",
              "      <td>...</td>\n",
              "      <td>...</td>\n",
              "    </tr>\n",
              "    <tr>\n",
              "      <th>8727</th>\n",
              "      <td>99812-1-2-0.wav</td>\n",
              "      <td>99812-1-2-0.png</td>\n",
              "      <td>99812</td>\n",
              "      <td>159.522205</td>\n",
              "      <td>163.522205</td>\n",
              "      <td>2</td>\n",
              "      <td>7</td>\n",
              "      <td>1</td>\n",
              "      <td>car_horn</td>\n",
              "    </tr>\n",
              "    <tr>\n",
              "      <th>8728</th>\n",
              "      <td>99812-1-3-0.wav</td>\n",
              "      <td>99812-1-3-0.png</td>\n",
              "      <td>99812</td>\n",
              "      <td>181.142431</td>\n",
              "      <td>183.284976</td>\n",
              "      <td>2</td>\n",
              "      <td>7</td>\n",
              "      <td>1</td>\n",
              "      <td>car_horn</td>\n",
              "    </tr>\n",
              "    <tr>\n",
              "      <th>8729</th>\n",
              "      <td>99812-1-4-0.wav</td>\n",
              "      <td>99812-1-4-0.png</td>\n",
              "      <td>99812</td>\n",
              "      <td>242.691902</td>\n",
              "      <td>246.197885</td>\n",
              "      <td>2</td>\n",
              "      <td>7</td>\n",
              "      <td>1</td>\n",
              "      <td>car_horn</td>\n",
              "    </tr>\n",
              "    <tr>\n",
              "      <th>8730</th>\n",
              "      <td>99812-1-5-0.wav</td>\n",
              "      <td>99812-1-5-0.png</td>\n",
              "      <td>99812</td>\n",
              "      <td>253.209850</td>\n",
              "      <td>255.741948</td>\n",
              "      <td>2</td>\n",
              "      <td>7</td>\n",
              "      <td>1</td>\n",
              "      <td>car_horn</td>\n",
              "    </tr>\n",
              "    <tr>\n",
              "      <th>8731</th>\n",
              "      <td>99812-1-6-0.wav</td>\n",
              "      <td>99812-1-6-0.png</td>\n",
              "      <td>99812</td>\n",
              "      <td>332.289233</td>\n",
              "      <td>334.821332</td>\n",
              "      <td>2</td>\n",
              "      <td>7</td>\n",
              "      <td>1</td>\n",
              "      <td>car_horn</td>\n",
              "    </tr>\n",
              "  </tbody>\n",
              "</table>\n",
              "<p>8732 rows × 9 columns</p>\n",
              "</div>\n",
              "      <button class=\"colab-df-convert\" onclick=\"convertToInteractive('df-c497aedb-aeb1-40c6-a243-ee6faf885e4e')\"\n",
              "              title=\"Convert this dataframe to an interactive table.\"\n",
              "              style=\"display:none;\">\n",
              "        \n",
              "  <svg xmlns=\"http://www.w3.org/2000/svg\" height=\"24px\"viewBox=\"0 0 24 24\"\n",
              "       width=\"24px\">\n",
              "    <path d=\"M0 0h24v24H0V0z\" fill=\"none\"/>\n",
              "    <path d=\"M18.56 5.44l.94 2.06.94-2.06 2.06-.94-2.06-.94-.94-2.06-.94 2.06-2.06.94zm-11 1L8.5 8.5l.94-2.06 2.06-.94-2.06-.94L8.5 2.5l-.94 2.06-2.06.94zm10 10l.94 2.06.94-2.06 2.06-.94-2.06-.94-.94-2.06-.94 2.06-2.06.94z\"/><path d=\"M17.41 7.96l-1.37-1.37c-.4-.4-.92-.59-1.43-.59-.52 0-1.04.2-1.43.59L10.3 9.45l-7.72 7.72c-.78.78-.78 2.05 0 2.83L4 21.41c.39.39.9.59 1.41.59.51 0 1.02-.2 1.41-.59l7.78-7.78 2.81-2.81c.8-.78.8-2.07 0-2.86zM5.41 20L4 18.59l7.72-7.72 1.47 1.35L5.41 20z\"/>\n",
              "  </svg>\n",
              "      </button>\n",
              "      \n",
              "  <style>\n",
              "    .colab-df-container {\n",
              "      display:flex;\n",
              "      flex-wrap:wrap;\n",
              "      gap: 12px;\n",
              "    }\n",
              "\n",
              "    .colab-df-convert {\n",
              "      background-color: #E8F0FE;\n",
              "      border: none;\n",
              "      border-radius: 50%;\n",
              "      cursor: pointer;\n",
              "      display: none;\n",
              "      fill: #1967D2;\n",
              "      height: 32px;\n",
              "      padding: 0 0 0 0;\n",
              "      width: 32px;\n",
              "    }\n",
              "\n",
              "    .colab-df-convert:hover {\n",
              "      background-color: #E2EBFA;\n",
              "      box-shadow: 0px 1px 2px rgba(60, 64, 67, 0.3), 0px 1px 3px 1px rgba(60, 64, 67, 0.15);\n",
              "      fill: #174EA6;\n",
              "    }\n",
              "\n",
              "    [theme=dark] .colab-df-convert {\n",
              "      background-color: #3B4455;\n",
              "      fill: #D2E3FC;\n",
              "    }\n",
              "\n",
              "    [theme=dark] .colab-df-convert:hover {\n",
              "      background-color: #434B5C;\n",
              "      box-shadow: 0px 1px 3px 1px rgba(0, 0, 0, 0.15);\n",
              "      filter: drop-shadow(0px 1px 2px rgba(0, 0, 0, 0.3));\n",
              "      fill: #FFFFFF;\n",
              "    }\n",
              "  </style>\n",
              "\n",
              "      <script>\n",
              "        const buttonEl =\n",
              "          document.querySelector('#df-c497aedb-aeb1-40c6-a243-ee6faf885e4e button.colab-df-convert');\n",
              "        buttonEl.style.display =\n",
              "          google.colab.kernel.accessAllowed ? 'block' : 'none';\n",
              "\n",
              "        async function convertToInteractive(key) {\n",
              "          const element = document.querySelector('#df-c497aedb-aeb1-40c6-a243-ee6faf885e4e');\n",
              "          const dataTable =\n",
              "            await google.colab.kernel.invokeFunction('convertToInteractive',\n",
              "                                                     [key], {});\n",
              "          if (!dataTable) return;\n",
              "\n",
              "          const docLinkHtml = 'Like what you see? Visit the ' +\n",
              "            '<a target=\"_blank\" href=https://colab.research.google.com/notebooks/data_table.ipynb>data table notebook</a>'\n",
              "            + ' to learn more about interactive tables.';\n",
              "          element.innerHTML = '';\n",
              "          dataTable['output_type'] = 'display_data';\n",
              "          await google.colab.output.renderOutput(dataTable, element);\n",
              "          const docLink = document.createElement('div');\n",
              "          docLink.innerHTML = docLinkHtml;\n",
              "          element.appendChild(docLink);\n",
              "        }\n",
              "      </script>\n",
              "    </div>\n",
              "  </div>\n",
              "  "
            ]
          },
          "metadata": {},
          "execution_count": 116
        }
      ]
    },
    {
      "cell_type": "code",
      "source": [
        "df.to_csv('/content/drive/My Drive/Colab Notebooks/22-5k_UrbanSound8K/metadata/22-5k_UrbanSound8K.csv', index=False)"
      ],
      "metadata": {
        "id": "zAKHeZABgyCn"
      },
      "execution_count": null,
      "outputs": []
    },
    {
      "cell_type": "code",
      "source": [
        "df = pd.read_csv('/content/drive/My Drive/Colab Notebooks/22-5k_UrbanSound8K/metadata/22-5k_UrbanSound8K.csv')\n",
        "df"
      ],
      "metadata": {
        "id": "XUgrGzWohgGY"
      },
      "execution_count": null,
      "outputs": []
    },
    {
      "cell_type": "code",
      "source": [
        "dataset_dict = df.to_dict()\n",
        "dataset_dict"
      ],
      "metadata": {
        "id": "Q5w0F8AM1li3"
      },
      "execution_count": null,
      "outputs": []
    },
    {
      "cell_type": "code",
      "source": [
        "spectrogram_path = {}"
      ],
      "metadata": {
        "id": "SKaI8FyW_g_z"
      },
      "execution_count": null,
      "outputs": []
    },
    {
      "cell_type": "code",
      "source": [
        "for i in range(len(df)):\n",
        "  file_name = str(dataset_dict['slice_file_name_png'][i])\n",
        "  fold_name = str(dataset_dict['fold'][i])\n",
        "\n",
        "  path = '/content/spectrogram_resized/fold' + fold_name + '/' + file_name\n",
        "\n",
        "  spectrogram_path[i] = path"
      ],
      "metadata": {
        "id": "MTUctwPf2uou"
      },
      "execution_count": null,
      "outputs": []
    },
    {
      "cell_type": "code",
      "source": [
        "dataset_dict['spectrogram_path'] = spectrogram_path\n",
        "dataset_dict"
      ],
      "metadata": {
        "id": "irLNN6Qs_40U"
      },
      "execution_count": null,
      "outputs": []
    },
    {
      "cell_type": "code",
      "source": [
        "df = pd.DataFrame(dataset_dict)\n",
        "df"
      ],
      "metadata": {
        "id": "pphAxE7TBIIb"
      },
      "execution_count": null,
      "outputs": []
    },
    {
      "cell_type": "code",
      "source": [
        "df.to_csv('/content/drive/My Drive/Colab Notebooks/22-5k_UrbanSound8K/metadata/22-5k_UrbanSound8K.csv', index=False)"
      ],
      "metadata": {
        "id": "JMsE4LPtBdmy"
      },
      "execution_count": null,
      "outputs": []
    },
    {
      "cell_type": "markdown",
      "source": [
        "## CNN練習(MNIST)\n",
        "https://www.tensorflow.org/tutorials/images/cnn?hl=ja"
      ],
      "metadata": {
        "id": "Tcc1u3rSEzea"
      }
    },
    {
      "cell_type": "code",
      "source": [
        "(train_images, train_labels), (test_images, test_labels) = datasets.mnist.load_data()\n",
        "\n",
        "train_images = train_images.reshape((60000, 28, 28, 1))\n",
        "test_images = test_images.reshape((10000, 28, 28, 1))\n",
        "\n",
        "# ピクセルの値を 0~1 の間に正規化\n",
        "train_images, test_images = train_images / 255.0, test_images / 255.0"
      ],
      "metadata": {
        "colab": {
          "base_uri": "https://localhost:8080/"
        },
        "id": "P0jVDBr-kVFt",
        "outputId": "eefa80b3-e385-40c3-820d-5942a64c7a1e"
      },
      "execution_count": null,
      "outputs": [
        {
          "output_type": "stream",
          "name": "stdout",
          "text": [
            "Downloading data from https://storage.googleapis.com/tensorflow/tf-keras-datasets/mnist.npz\n",
            "11493376/11490434 [==============================] - 0s 0us/step\n",
            "11501568/11490434 [==============================] - 0s 0us/step\n"
          ]
        }
      ]
    },
    {
      "cell_type": "code",
      "source": [
        "model = models.Sequential()\n",
        "model.add(layers.Conv2D(8, (3, 3), activation='relu', input_shape=(28, 28, 1)))\n",
        "model.add(layers.MaxPooling2D((2, 2)))\n",
        "model.add(layers.Conv2D(16, (3, 3), activation='relu'))\n",
        "model.add(layers.MaxPooling2D((2, 2)))\n",
        "model.add(layers.Conv2D(32, (3, 3), activation='relu'))"
      ],
      "metadata": {
        "id": "LGtN2NihipAA"
      },
      "execution_count": null,
      "outputs": []
    },
    {
      "cell_type": "code",
      "source": [
        "model.summary()"
      ],
      "metadata": {
        "colab": {
          "base_uri": "https://localhost:8080/"
        },
        "id": "4d3SELlgkeoh",
        "outputId": "2b8d0e2a-66d5-4c4e-96b4-88e09eef06b6"
      },
      "execution_count": null,
      "outputs": [
        {
          "output_type": "stream",
          "name": "stdout",
          "text": [
            "Model: \"sequential\"\n",
            "_________________________________________________________________\n",
            " Layer (type)                Output Shape              Param #   \n",
            "=================================================================\n",
            " conv2d (Conv2D)             (None, 26, 26, 8)         80        \n",
            "                                                                 \n",
            " max_pooling2d (MaxPooling2D  (None, 13, 13, 8)        0         \n",
            " )                                                               \n",
            "                                                                 \n",
            " conv2d_1 (Conv2D)           (None, 11, 11, 16)        1168      \n",
            "                                                                 \n",
            " max_pooling2d_1 (MaxPooling  (None, 5, 5, 16)         0         \n",
            " 2D)                                                             \n",
            "                                                                 \n",
            " conv2d_2 (Conv2D)           (None, 3, 3, 32)          4640      \n",
            "                                                                 \n",
            "=================================================================\n",
            "Total params: 5,888\n",
            "Trainable params: 5,888\n",
            "Non-trainable params: 0\n",
            "_________________________________________________________________\n"
          ]
        }
      ]
    },
    {
      "cell_type": "code",
      "source": [
        "model.add(layers.Flatten())\n",
        "model.add(layers.Dense(500, activation='relu'))\n",
        "model.add(layers.Dense(450, activation='relu'))\n",
        "model.add(layers.Dense(10, activation='softmax'))"
      ],
      "metadata": {
        "id": "GygoJjpdk1S1"
      },
      "execution_count": null,
      "outputs": []
    },
    {
      "cell_type": "code",
      "source": [
        "model.summary()"
      ],
      "metadata": {
        "colab": {
          "base_uri": "https://localhost:8080/"
        },
        "id": "qXrLAjAGk_Os",
        "outputId": "b4d382a2-0057-4534-86c8-702a4551d1fe"
      },
      "execution_count": null,
      "outputs": [
        {
          "output_type": "stream",
          "name": "stdout",
          "text": [
            "Model: \"sequential\"\n",
            "_________________________________________________________________\n",
            " Layer (type)                Output Shape              Param #   \n",
            "=================================================================\n",
            " conv2d (Conv2D)             (None, 26, 26, 8)         80        \n",
            "                                                                 \n",
            " max_pooling2d (MaxPooling2D  (None, 13, 13, 8)        0         \n",
            " )                                                               \n",
            "                                                                 \n",
            " conv2d_1 (Conv2D)           (None, 11, 11, 16)        1168      \n",
            "                                                                 \n",
            " max_pooling2d_1 (MaxPooling  (None, 5, 5, 16)         0         \n",
            " 2D)                                                             \n",
            "                                                                 \n",
            " conv2d_2 (Conv2D)           (None, 3, 3, 32)          4640      \n",
            "                                                                 \n",
            " flatten (Flatten)           (None, 288)               0         \n",
            "                                                                 \n",
            " dense (Dense)               (None, 500)               144500    \n",
            "                                                                 \n",
            " dense_1 (Dense)             (None, 450)               225450    \n",
            "                                                                 \n",
            " dense_2 (Dense)             (None, 10)                4510      \n",
            "                                                                 \n",
            "=================================================================\n",
            "Total params: 380,348\n",
            "Trainable params: 380,348\n",
            "Non-trainable params: 0\n",
            "_________________________________________________________________\n"
          ]
        }
      ]
    },
    {
      "cell_type": "code",
      "source": [
        "model.compile(optimizer='adam',\n",
        "              loss='sparse_categorical_crossentropy',\n",
        "              metrics=['accuracy'])\n",
        "\n",
        "model.fit(train_images, train_labels, epochs=5)"
      ],
      "metadata": {
        "colab": {
          "base_uri": "https://localhost:8080/"
        },
        "id": "t47bwfq6lHxU",
        "outputId": "40d74e52-7307-4396-a28c-eaa28e436dbb"
      },
      "execution_count": null,
      "outputs": [
        {
          "output_type": "stream",
          "name": "stdout",
          "text": [
            "Epoch 1/5\n",
            "1875/1875 [==============================] - 18s 3ms/step - loss: 0.1655 - accuracy: 0.9482\n",
            "Epoch 2/5\n",
            "1875/1875 [==============================] - 6s 3ms/step - loss: 0.0621 - accuracy: 0.9805\n",
            "Epoch 3/5\n",
            "1875/1875 [==============================] - 6s 3ms/step - loss: 0.0462 - accuracy: 0.9859\n",
            "Epoch 4/5\n",
            "1875/1875 [==============================] - 6s 3ms/step - loss: 0.0369 - accuracy: 0.9888\n",
            "Epoch 5/5\n",
            "1875/1875 [==============================] - 6s 3ms/step - loss: 0.0293 - accuracy: 0.9911\n"
          ]
        },
        {
          "output_type": "execute_result",
          "data": {
            "text/plain": [
              "<keras.callbacks.History at 0x7f11800ded10>"
            ]
          },
          "metadata": {},
          "execution_count": 8
        }
      ]
    },
    {
      "cell_type": "code",
      "source": [
        "test_loss, test_acc = model.evaluate(test_images, test_labels)\n",
        "print(test_acc)"
      ],
      "metadata": {
        "colab": {
          "base_uri": "https://localhost:8080/"
        },
        "id": "x6b23Q3LmQCl",
        "outputId": "a5d2ba86-19a2-42bb-ec3f-5bea157ac01b"
      },
      "execution_count": null,
      "outputs": [
        {
          "output_type": "stream",
          "name": "stdout",
          "text": [
            "313/313 [==============================] - 1s 2ms/step - loss: 0.0362 - accuracy: 0.9891\n",
            "0.9890999794006348\n"
          ]
        }
      ]
    },
    {
      "cell_type": "markdown",
      "source": [
        "## データセットを配列に格納する"
      ],
      "metadata": {
        "id": "tPCuiD1YhhKV"
      }
    },
    {
      "cell_type": "markdown",
      "source": [
        "作業用ディレクトリ作成"
      ],
      "metadata": {
        "id": "0uvifjhFFPlZ"
      }
    },
    {
      "cell_type": "code",
      "source": [
        "my_process = run(\n",
        "  ['cp', '-r', '/content/drive/My Drive/Colab Notebooks/22-5k_UrbanSound8K/spectrogram_resized/', '/content/'], # コマンドはスペース区切りではなく、リストで渡す。\n",
        "  shell=False,  # Default が False なので省略可能ですが念の為（False の方が安全）。\n",
        "  stdout=PIPE, stderr=PIPE\n",
        ")"
      ],
      "metadata": {
        "id": "Xokc3a9aE3q4"
      },
      "execution_count": null,
      "outputs": []
    },
    {
      "cell_type": "code",
      "source": [
        "df = pd.read_csv('/content/drive/My Drive/Colab Notebooks/22-5k_UrbanSound8K/metadata/22-5k_UrbanSound8K.csv')\n",
        "df"
      ],
      "metadata": {
        "id": "2DGXMhVZFTQR",
        "colab": {
          "base_uri": "https://localhost:8080/",
          "height": 424
        },
        "outputId": "408653cf-0d4e-47a8-b159-a5ebfe8f6fb6"
      },
      "execution_count": null,
      "outputs": [
        {
          "output_type": "execute_result",
          "data": {
            "text/plain": [
              "         slice_file_name slice_file_name_png  fold  classID             class  \\\n",
              "0       100032-3-0-0.wav    100032-3-0-0.png     5        3          dog_bark   \n",
              "1     100263-2-0-117.wav  100263-2-0-117.png     5        2  children_playing   \n",
              "2     100263-2-0-121.wav  100263-2-0-121.png     5        2  children_playing   \n",
              "3     100263-2-0-126.wav  100263-2-0-126.png     5        2  children_playing   \n",
              "4     100263-2-0-137.wav  100263-2-0-137.png     5        2  children_playing   \n",
              "...                  ...                 ...   ...      ...               ...   \n",
              "8727     99812-1-2-0.wav     99812-1-2-0.png     7        1          car_horn   \n",
              "8728     99812-1-3-0.wav     99812-1-3-0.png     7        1          car_horn   \n",
              "8729     99812-1-4-0.wav     99812-1-4-0.png     7        1          car_horn   \n",
              "8730     99812-1-5-0.wav     99812-1-5-0.png     7        1          car_horn   \n",
              "8731     99812-1-6-0.wav     99812-1-6-0.png     7        1          car_horn   \n",
              "\n",
              "                                       spectrogram_path  \n",
              "0     /content/spectrogram_resized/fold5/100032-3-0-...  \n",
              "1     /content/spectrogram_resized/fold5/100263-2-0-...  \n",
              "2     /content/spectrogram_resized/fold5/100263-2-0-...  \n",
              "3     /content/spectrogram_resized/fold5/100263-2-0-...  \n",
              "4     /content/spectrogram_resized/fold5/100263-2-0-...  \n",
              "...                                                 ...  \n",
              "8727  /content/spectrogram_resized/fold7/99812-1-2-0...  \n",
              "8728  /content/spectrogram_resized/fold7/99812-1-3-0...  \n",
              "8729  /content/spectrogram_resized/fold7/99812-1-4-0...  \n",
              "8730  /content/spectrogram_resized/fold7/99812-1-5-0...  \n",
              "8731  /content/spectrogram_resized/fold7/99812-1-6-0...  \n",
              "\n",
              "[8732 rows x 6 columns]"
            ],
            "text/html": [
              "\n",
              "  <div id=\"df-72a7e74c-b60d-426e-a2cc-0d88eb4580e2\">\n",
              "    <div class=\"colab-df-container\">\n",
              "      <div>\n",
              "<style scoped>\n",
              "    .dataframe tbody tr th:only-of-type {\n",
              "        vertical-align: middle;\n",
              "    }\n",
              "\n",
              "    .dataframe tbody tr th {\n",
              "        vertical-align: top;\n",
              "    }\n",
              "\n",
              "    .dataframe thead th {\n",
              "        text-align: right;\n",
              "    }\n",
              "</style>\n",
              "<table border=\"1\" class=\"dataframe\">\n",
              "  <thead>\n",
              "    <tr style=\"text-align: right;\">\n",
              "      <th></th>\n",
              "      <th>slice_file_name</th>\n",
              "      <th>slice_file_name_png</th>\n",
              "      <th>fold</th>\n",
              "      <th>classID</th>\n",
              "      <th>class</th>\n",
              "      <th>spectrogram_path</th>\n",
              "    </tr>\n",
              "  </thead>\n",
              "  <tbody>\n",
              "    <tr>\n",
              "      <th>0</th>\n",
              "      <td>100032-3-0-0.wav</td>\n",
              "      <td>100032-3-0-0.png</td>\n",
              "      <td>5</td>\n",
              "      <td>3</td>\n",
              "      <td>dog_bark</td>\n",
              "      <td>/content/spectrogram_resized/fold5/100032-3-0-...</td>\n",
              "    </tr>\n",
              "    <tr>\n",
              "      <th>1</th>\n",
              "      <td>100263-2-0-117.wav</td>\n",
              "      <td>100263-2-0-117.png</td>\n",
              "      <td>5</td>\n",
              "      <td>2</td>\n",
              "      <td>children_playing</td>\n",
              "      <td>/content/spectrogram_resized/fold5/100263-2-0-...</td>\n",
              "    </tr>\n",
              "    <tr>\n",
              "      <th>2</th>\n",
              "      <td>100263-2-0-121.wav</td>\n",
              "      <td>100263-2-0-121.png</td>\n",
              "      <td>5</td>\n",
              "      <td>2</td>\n",
              "      <td>children_playing</td>\n",
              "      <td>/content/spectrogram_resized/fold5/100263-2-0-...</td>\n",
              "    </tr>\n",
              "    <tr>\n",
              "      <th>3</th>\n",
              "      <td>100263-2-0-126.wav</td>\n",
              "      <td>100263-2-0-126.png</td>\n",
              "      <td>5</td>\n",
              "      <td>2</td>\n",
              "      <td>children_playing</td>\n",
              "      <td>/content/spectrogram_resized/fold5/100263-2-0-...</td>\n",
              "    </tr>\n",
              "    <tr>\n",
              "      <th>4</th>\n",
              "      <td>100263-2-0-137.wav</td>\n",
              "      <td>100263-2-0-137.png</td>\n",
              "      <td>5</td>\n",
              "      <td>2</td>\n",
              "      <td>children_playing</td>\n",
              "      <td>/content/spectrogram_resized/fold5/100263-2-0-...</td>\n",
              "    </tr>\n",
              "    <tr>\n",
              "      <th>...</th>\n",
              "      <td>...</td>\n",
              "      <td>...</td>\n",
              "      <td>...</td>\n",
              "      <td>...</td>\n",
              "      <td>...</td>\n",
              "      <td>...</td>\n",
              "    </tr>\n",
              "    <tr>\n",
              "      <th>8727</th>\n",
              "      <td>99812-1-2-0.wav</td>\n",
              "      <td>99812-1-2-0.png</td>\n",
              "      <td>7</td>\n",
              "      <td>1</td>\n",
              "      <td>car_horn</td>\n",
              "      <td>/content/spectrogram_resized/fold7/99812-1-2-0...</td>\n",
              "    </tr>\n",
              "    <tr>\n",
              "      <th>8728</th>\n",
              "      <td>99812-1-3-0.wav</td>\n",
              "      <td>99812-1-3-0.png</td>\n",
              "      <td>7</td>\n",
              "      <td>1</td>\n",
              "      <td>car_horn</td>\n",
              "      <td>/content/spectrogram_resized/fold7/99812-1-3-0...</td>\n",
              "    </tr>\n",
              "    <tr>\n",
              "      <th>8729</th>\n",
              "      <td>99812-1-4-0.wav</td>\n",
              "      <td>99812-1-4-0.png</td>\n",
              "      <td>7</td>\n",
              "      <td>1</td>\n",
              "      <td>car_horn</td>\n",
              "      <td>/content/spectrogram_resized/fold7/99812-1-4-0...</td>\n",
              "    </tr>\n",
              "    <tr>\n",
              "      <th>8730</th>\n",
              "      <td>99812-1-5-0.wav</td>\n",
              "      <td>99812-1-5-0.png</td>\n",
              "      <td>7</td>\n",
              "      <td>1</td>\n",
              "      <td>car_horn</td>\n",
              "      <td>/content/spectrogram_resized/fold7/99812-1-5-0...</td>\n",
              "    </tr>\n",
              "    <tr>\n",
              "      <th>8731</th>\n",
              "      <td>99812-1-6-0.wav</td>\n",
              "      <td>99812-1-6-0.png</td>\n",
              "      <td>7</td>\n",
              "      <td>1</td>\n",
              "      <td>car_horn</td>\n",
              "      <td>/content/spectrogram_resized/fold7/99812-1-6-0...</td>\n",
              "    </tr>\n",
              "  </tbody>\n",
              "</table>\n",
              "<p>8732 rows × 6 columns</p>\n",
              "</div>\n",
              "      <button class=\"colab-df-convert\" onclick=\"convertToInteractive('df-72a7e74c-b60d-426e-a2cc-0d88eb4580e2')\"\n",
              "              title=\"Convert this dataframe to an interactive table.\"\n",
              "              style=\"display:none;\">\n",
              "        \n",
              "  <svg xmlns=\"http://www.w3.org/2000/svg\" height=\"24px\"viewBox=\"0 0 24 24\"\n",
              "       width=\"24px\">\n",
              "    <path d=\"M0 0h24v24H0V0z\" fill=\"none\"/>\n",
              "    <path d=\"M18.56 5.44l.94 2.06.94-2.06 2.06-.94-2.06-.94-.94-2.06-.94 2.06-2.06.94zm-11 1L8.5 8.5l.94-2.06 2.06-.94-2.06-.94L8.5 2.5l-.94 2.06-2.06.94zm10 10l.94 2.06.94-2.06 2.06-.94-2.06-.94-.94-2.06-.94 2.06-2.06.94z\"/><path d=\"M17.41 7.96l-1.37-1.37c-.4-.4-.92-.59-1.43-.59-.52 0-1.04.2-1.43.59L10.3 9.45l-7.72 7.72c-.78.78-.78 2.05 0 2.83L4 21.41c.39.39.9.59 1.41.59.51 0 1.02-.2 1.41-.59l7.78-7.78 2.81-2.81c.8-.78.8-2.07 0-2.86zM5.41 20L4 18.59l7.72-7.72 1.47 1.35L5.41 20z\"/>\n",
              "  </svg>\n",
              "      </button>\n",
              "      \n",
              "  <style>\n",
              "    .colab-df-container {\n",
              "      display:flex;\n",
              "      flex-wrap:wrap;\n",
              "      gap: 12px;\n",
              "    }\n",
              "\n",
              "    .colab-df-convert {\n",
              "      background-color: #E8F0FE;\n",
              "      border: none;\n",
              "      border-radius: 50%;\n",
              "      cursor: pointer;\n",
              "      display: none;\n",
              "      fill: #1967D2;\n",
              "      height: 32px;\n",
              "      padding: 0 0 0 0;\n",
              "      width: 32px;\n",
              "    }\n",
              "\n",
              "    .colab-df-convert:hover {\n",
              "      background-color: #E2EBFA;\n",
              "      box-shadow: 0px 1px 2px rgba(60, 64, 67, 0.3), 0px 1px 3px 1px rgba(60, 64, 67, 0.15);\n",
              "      fill: #174EA6;\n",
              "    }\n",
              "\n",
              "    [theme=dark] .colab-df-convert {\n",
              "      background-color: #3B4455;\n",
              "      fill: #D2E3FC;\n",
              "    }\n",
              "\n",
              "    [theme=dark] .colab-df-convert:hover {\n",
              "      background-color: #434B5C;\n",
              "      box-shadow: 0px 1px 3px 1px rgba(0, 0, 0, 0.15);\n",
              "      filter: drop-shadow(0px 1px 2px rgba(0, 0, 0, 0.3));\n",
              "      fill: #FFFFFF;\n",
              "    }\n",
              "  </style>\n",
              "\n",
              "      <script>\n",
              "        const buttonEl =\n",
              "          document.querySelector('#df-72a7e74c-b60d-426e-a2cc-0d88eb4580e2 button.colab-df-convert');\n",
              "        buttonEl.style.display =\n",
              "          google.colab.kernel.accessAllowed ? 'block' : 'none';\n",
              "\n",
              "        async function convertToInteractive(key) {\n",
              "          const element = document.querySelector('#df-72a7e74c-b60d-426e-a2cc-0d88eb4580e2');\n",
              "          const dataTable =\n",
              "            await google.colab.kernel.invokeFunction('convertToInteractive',\n",
              "                                                     [key], {});\n",
              "          if (!dataTable) return;\n",
              "\n",
              "          const docLinkHtml = 'Like what you see? Visit the ' +\n",
              "            '<a target=\"_blank\" href=https://colab.research.google.com/notebooks/data_table.ipynb>data table notebook</a>'\n",
              "            + ' to learn more about interactive tables.';\n",
              "          element.innerHTML = '';\n",
              "          dataTable['output_type'] = 'display_data';\n",
              "          await google.colab.output.renderOutput(dataTable, element);\n",
              "          const docLink = document.createElement('div');\n",
              "          docLink.innerHTML = docLinkHtml;\n",
              "          element.appendChild(docLink);\n",
              "        }\n",
              "      </script>\n",
              "    </div>\n",
              "  </div>\n",
              "  "
            ]
          },
          "metadata": {},
          "execution_count": 8
        }
      ]
    },
    {
      "cell_type": "code",
      "source": [
        "df_shaffle = df.sample(frac=1, ignore_index=True)\n",
        "df_shaffle"
      ],
      "metadata": {
        "id": "M1HlbYD2hx2S"
      },
      "execution_count": null,
      "outputs": []
    },
    {
      "cell_type": "markdown",
      "source": [
        "\\#ndarrayに画像を格納(4次元配列、(8732,100,100,3))"
      ],
      "metadata": {
        "id": "fEbG16IPN8ol"
      }
    },
    {
      "cell_type": "code",
      "source": [
        "img_path_list = df_shaffle['spectrogram_path']\n",
        "spectrogram_data_list = []\n",
        "img_size = (100,100)\n",
        "\n",
        "for img in img_path_list:\n",
        "    temp_img = load_img(img,grayscale=False,target_size=(img_size))\n",
        "    temp_img_array = img_to_array(temp_img) /255\n",
        "    spectrogram_data_list.append(temp_img_array)\n",
        "\n",
        "spectrogram_data_list = np.array(spectrogram_data_list)\n",
        "print(f'dataset shape: {spectrogram_data_list.shape}')"
      ],
      "metadata": {
        "colab": {
          "base_uri": "https://localhost:8080/"
        },
        "id": "cxBzu05ZERlJ",
        "outputId": "0e4310e8-6895-4a78-c425-c316b96da00f"
      },
      "execution_count": null,
      "outputs": [
        {
          "output_type": "stream",
          "name": "stdout",
          "text": [
            "dataset shape: (8732, 100, 100, 3)\n"
          ]
        }
      ]
    },
    {
      "cell_type": "markdown",
      "source": [
        "\\#ndarrayにラベルを格納"
      ],
      "metadata": {
        "id": "UBxIj5q-OfL8"
      }
    },
    {
      "cell_type": "code",
      "source": [
        "labels = df_shaffle['classID']\n",
        "labels = np.array(labels).T\n",
        "folds = df_shaffle['fold']\n",
        "folds = np.array(folds)\n",
        "\n",
        "labels"
      ],
      "metadata": {
        "colab": {
          "base_uri": "https://localhost:8080/"
        },
        "id": "wNqUuynGOWXu",
        "outputId": "89a4599b-2362-4201-b711-62689d45b334"
      },
      "execution_count": null,
      "outputs": [
        {
          "output_type": "execute_result",
          "data": {
            "text/plain": [
              "array([5, 5, 7, ..., 2, 5, 4])"
            ]
          },
          "metadata": {},
          "execution_count": 10
        }
      ]
    },
    {
      "cell_type": "markdown",
      "source": [
        "## 論文CNNモデル"
      ],
      "metadata": {
        "id": "hrEbGeWoE5qK"
      }
    },
    {
      "cell_type": "code",
      "source": [
        "keras.backend.clear_session()\n",
        "\n",
        "model = models.Sequential()\n",
        "model.add(layers.Conv2D(8, (3, 3), input_shape=(100, 100, 3)))\n",
        "model.add(layers.BatchNormalization(axis=1))\n",
        "model.add(layers.ReLU())\n",
        "model.add(layers.MaxPooling2D((2, 2)))\n",
        "model.add(layers.Conv2D(16, (3, 3)))\n",
        "model.add(layers.BatchNormalization(axis=1))\n",
        "model.add(layers.ReLU())\n",
        "model.add(layers.MaxPooling2D((2, 2)))\n",
        "model.add(layers.Conv2D(32, (3, 3)))\n",
        "model.add(layers.BatchNormalization(axis=1))\n",
        "model.add(layers.ReLU())\n",
        "model.add(layers.Flatten())\n",
        "model.add(layers.Dense(500, activation='relu'))\n",
        "model.add(layers.Dense(450, activation='relu'))\n",
        "model.add(layers.Dense(10, activation='softmax'))"
      ],
      "metadata": {
        "id": "MmAQqqobE-ey"
      },
      "execution_count": null,
      "outputs": []
    },
    {
      "cell_type": "code",
      "source": [
        "model.summary()"
      ],
      "metadata": {
        "id": "FdSUbRW8FLLy"
      },
      "execution_count": null,
      "outputs": []
    },
    {
      "cell_type": "code",
      "source": [
        "model.compile(optimizer='adam',\n",
        "              loss='sparse_categorical_crossentropy',\n",
        "              metrics=['accuracy'])"
      ],
      "metadata": {
        "id": "x9Wavq9lSX2G"
      },
      "execution_count": null,
      "outputs": []
    },
    {
      "cell_type": "markdown",
      "source": [
        "mnist_dataset"
      ],
      "metadata": {
        "id": "YCd7wShBSt6r"
      }
    },
    {
      "cell_type": "code",
      "source": [
        "(train_images, train_labels), (test_images, test_labels) = datasets.mnist.load_data()\n",
        "\n",
        "train_images = train_images.reshape((60000, 28, 28, 1))\n",
        "test_images = test_images.reshape((10000, 28, 28, 1))\n",
        "\n",
        "# ピクセルの値を 0~1 の間に正規化\n",
        "#train_images, test_images = train_images / 255.0, test_images / 255.0"
      ],
      "metadata": {
        "id": "BzMPmCGUSjF1"
      },
      "execution_count": null,
      "outputs": []
    },
    {
      "cell_type": "markdown",
      "source": [
        "spectrogram dataset"
      ],
      "metadata": {
        "id": "Hsomj9DK7eTJ"
      }
    },
    {
      "cell_type": "code",
      "source": [
        "divide_idx = int(len(df_shaffle) * 0.9)\n",
        "divide_idx"
      ],
      "metadata": {
        "colab": {
          "base_uri": "https://localhost:8080/"
        },
        "id": "-8sDGMVMigP6",
        "outputId": "c46babb6-b755-4835-e6cf-972ccad212c0"
      },
      "execution_count": null,
      "outputs": [
        {
          "output_type": "execute_result",
          "data": {
            "text/plain": [
              "7858"
            ]
          },
          "metadata": {},
          "execution_count": 14
        }
      ]
    },
    {
      "cell_type": "code",
      "source": [
        "train_labels = labels[:divide_idx]\n",
        "test_labels = labels[divide_idx:]\n",
        "\n",
        "train_images = spectrogram_data_list[:divide_idx, :, :, :]\n",
        "train_images = train_images.reshape((-1, 100, 100, 3))\n",
        "test_images = spectrogram_data_list[divide_idx:, :, :, :]\n",
        "test_images = test_images.reshape((-1, 100, 100, 3))"
      ],
      "metadata": {
        "id": "7i2ITTo47d4B"
      },
      "execution_count": null,
      "outputs": []
    },
    {
      "cell_type": "code",
      "source": [
        "history = model.fit(train_images, train_labels, validation_split=0.1, batch_size=128, epochs=50)"
      ],
      "metadata": {
        "id": "8FzyOOplScyt"
      },
      "execution_count": null,
      "outputs": []
    },
    {
      "cell_type": "code",
      "source": [
        "#https://keras.io/ja/visualization/\n",
        "# Plot training & validation accuracy values\n",
        "plt.plot(history.history['accuracy'])\n",
        "plt.plot(history.history['val_accuracy'])\n",
        "plt.title('Model accuracy')\n",
        "plt.ylabel('Accuracy')\n",
        "plt.xlabel('Epoch')\n",
        "plt.legend(['Train', 'Test'], loc='upper left')\n",
        "plt.show()\n"
      ],
      "metadata": {
        "colab": {
          "base_uri": "https://localhost:8080/",
          "height": 295
        },
        "id": "H98_KdVAknAh",
        "outputId": "018e98d5-1e56-4932-e054-6b8334dcb1a4"
      },
      "execution_count": null,
      "outputs": [
        {
          "output_type": "display_data",
          "data": {
            "text/plain": [
              "<Figure size 432x288 with 1 Axes>"
            ],
            "image/png": "[encoded data removed]"
          },
          "metadata": {
            "needs_background": "light"
          }
        }
      ]
    },
    {
      "cell_type": "code",
      "source": [
        "test_loss, test_acc = model.evaluate(test_images, test_labels, batch_size=128)\n",
        "print(test_acc)"
      ],
      "metadata": {
        "id": "NWzbiqqJSdbO",
        "colab": {
          "base_uri": "https://localhost:8080/"
        },
        "outputId": "a9351545-632e-46dd-c687-c6bf4b840331"
      },
      "execution_count": null,
      "outputs": [
        {
          "output_type": "stream",
          "name": "stdout",
          "text": [
            "7/7 [==============================] - 0s 34ms/step - loss: 0.8338 - accuracy: 0.8741\n",
            "0.8741418719291687\n"
          ]
        }
      ]
    },
    {
      "cell_type": "markdown",
      "source": [
        "## 分割交差検証\n",
        "AKIRAME! ミ☆"
      ],
      "metadata": {
        "id": "JFIn-XnAOQA6"
      }
    },
    {
      "cell_type": "code",
      "source": [
        "#fold分割\n",
        "df = pd.read_csv('/content/drive/My Drive/Colab Notebooks/22-5k_UrbanSound8K/metadata/22-5k_UrbanSound8K.csv')\n",
        "\n",
        "def make_validation_data(idx):\n",
        "  df_fold = df[df['fold'] == idx]\n",
        "  labels_val = np.array(df_fold['classID'])\n",
        "  img_path_list_val = df_fold['spectrogram_path']\n",
        "\n",
        "  spectrogram_data_list_val = []\n",
        "  img_size = (100,100)\n",
        "\n",
        "  for img in img_path_list_val:\n",
        "      temp_img_val = load_img(img,grayscale=False,target_size=(img_size))\n",
        "      temp_img_array_val = img_to_array(temp_img_val) /255\n",
        "      spectrogram_data_list_val.append(temp_img_array_val)\n",
        "\n",
        "  spectrogram_data_list_val = np.array(spectrogram_data_list_val)\n",
        "\n",
        "  return labels_val, spectrogram_data_list_val\n",
        "\n",
        "label1, data1 = make_validation_data(1)\n",
        "label2, data2 = make_validation_data(2)\n",
        "label3, data3 = make_validation_data(3)\n",
        "label4, data4 = make_validation_data(4)\n",
        "label5, data5 = make_validation_data(5)\n",
        "label6, data6 = make_validation_data(6)\n",
        "label7, data7 = make_validation_data(7)\n",
        "label8, data8 = make_validation_data(8)\n",
        "label9, data9 = make_validation_data(9)\n",
        "label10, data10 = make_validation_data(10)"
      ],
      "metadata": {
        "id": "4ICDSKkGQ6MB"
      },
      "execution_count": null,
      "outputs": []
    },
    {
      "cell_type": "markdown",
      "source": [
        "#以下論文CNN実装"
      ],
      "metadata": {
        "id": "1t6Raj6WAs0j"
      }
    },
    {
      "cell_type": "markdown",
      "source": [
        "\n",
        "---\n",
        "\n",
        "\n",
        "##分類器Softmax関数ver.\n",
        "\n",
        "\n",
        "---\n",
        "\n",
        "////////\n",
        "ここからでも行けるよー\n",
        "////////"
      ],
      "metadata": {
        "id": "89gP58EWe_ze"
      }
    },
    {
      "cell_type": "code",
      "source": [
        "def load_directries():\n",
        "  #作業用にスペクトログラムたちをアップロード\n",
        "  print('loading directries...')\n",
        "\n",
        "  my_process = run(\n",
        "    ['mkdir', '/content/spectrogram_resized'], # コマンドはスペース区切りではなく、リストで渡す。\n",
        "    shell=False,  # Default が False なので省略可能ですが念の為（False の方が安全）。\n",
        "    stdout=PIPE, stderr=PIPE\n",
        "  )\n",
        "\n",
        "  for i in tqdm(range(1,11)):\n",
        "    i = str(i)\n",
        "    my_process = run(\n",
        "      ['cp', '-r', '/content/drive/My Drive/Colab Notebooks/22-5k_UrbanSound8K/spectrogram_resized/fold' + i + '/', '/content/spectrogram_resized/'], # コマンドはスペース区切りではなく、リストで渡す。\n",
        "      shell=False,  # Default が False なので省略可能ですが念の為（False の方が安全）。\n",
        "      stdout=PIPE, stderr=PIPE\n",
        "    )"
      ],
      "metadata": {
        "id": "NeI9gKv79PwE"
      },
      "execution_count": null,
      "outputs": []
    },
    {
      "cell_type": "code",
      "source": [
        "def load_UrbanSound8K():\n",
        "  #以下データセット作成\n",
        "  #まずはCSVからDataFrameを作成して、シャッフル\n",
        "  df = pd.read_csv('/content/drive/My Drive/Colab Notebooks/22-5k_UrbanSound8K/metadata/22-5k_UrbanSound8K.csv')\n",
        "  df_shaffle = df.sample(frac=1, ignore_index=True)\n",
        "\n",
        "  #画像データをndarray化して格納\n",
        "  #ちょっと時間かかるかも？（20秒くらい）\n",
        "  print('making spectrogram array...')\n",
        "  img_path_list = df_shaffle['spectrogram_path']\n",
        "  spectrogram_data_list = []\n",
        "  img_size = (100,100)\n",
        "\n",
        "  for img in tqdm(img_path_list):\n",
        "      temp_img = load_img(img,grayscale=False,target_size=(img_size))\n",
        "      temp_img_array = img_to_array(temp_img) /255\n",
        "      spectrogram_data_list.append(temp_img_array)\n",
        "\n",
        "  spectrogram_data_list = np.array(spectrogram_data_list)\n",
        "  print(f'dataset shape: {spectrogram_data_list.shape}')\n",
        "\n",
        "  #正解ラベル格納\n",
        "  print('making label array...')\n",
        "  labels = df_shaffle['classID']\n",
        "  labels = np.array(labels)\n",
        "\n",
        "  #訓練データとテストデータに分割\n",
        "  #divide_idxまでのデータが訓練データ\n",
        "  divide_idx = int(len(df_shaffle) * 0.9)\n",
        "  divide_idx\n",
        "\n",
        "  #分割\n",
        "  train_images = spectrogram_data_list[:divide_idx, :, :, :]\n",
        "  train_labels = labels[:divide_idx]\n",
        "  test_images = spectrogram_data_list[divide_idx:, :, :, :]\n",
        "  test_labels = labels[divide_idx:]\n",
        "\n",
        "  print('Succeed!')\n",
        "\n",
        "  return (train_images, train_labels), (test_images, test_labels)"
      ],
      "metadata": {
        "id": "F7ta65E4e_JW"
      },
      "execution_count": null,
      "outputs": []
    },
    {
      "cell_type": "code",
      "source": [
        "def CNN():\n",
        "  keras.backend.clear_session()\n",
        "\n",
        "  model = models.Sequential()\n",
        "  model.add(layers.Conv2D(8, (3, 3), input_shape=(100, 100, 3)))\n",
        "  model.add(layers.BatchNormalization(axis=1))\n",
        "  model.add(layers.ReLU())\n",
        "  model.add(layers.MaxPooling2D((2, 2)))\n",
        "  model.add(layers.Conv2D(16, (3, 3)))\n",
        "  model.add(layers.BatchNormalization(axis=1))\n",
        "  model.add(layers.ReLU())\n",
        "  model.add(layers.MaxPooling2D((2, 2)))\n",
        "  model.add(layers.Conv2D(32, (3, 3)))\n",
        "  model.add(layers.BatchNormalization(axis=1))\n",
        "  model.add(layers.ReLU())\n",
        "  model.add(layers.Flatten())\n",
        "  model.add(layers.Dense(500))\n",
        "  model.add(layers.ReLU())\n",
        "  model.add(layers.Dense(450))\n",
        "  model.add(layers.ReLU())\n",
        "  model.add(layers.Dense(10))\n",
        "  model.add(Activation('softmax'))\n",
        "\n",
        "  model.summary()\n",
        "\n",
        "  model.compile(optimizer='adam',\n",
        "                loss='sparse_categorical_crossentropy',\n",
        "                metrics=['accuracy'])\n",
        "\n",
        "  return model"
      ],
      "metadata": {
        "id": "4ZFboM_2oN-z"
      },
      "execution_count": null,
      "outputs": []
    },
    {
      "cell_type": "code",
      "source": [
        "load_directries()"
      ],
      "metadata": {
        "id": "A-03Cdxh9TbC"
      },
      "execution_count": null,
      "outputs": []
    },
    {
      "cell_type": "code",
      "source": [
        "(train_images, train_labels), (test_images, test_labels) = load_UrbanSound8K()\n",
        "train_images = train_images.reshape((-1, 100, 100, 3))\n",
        "test_images = test_images.reshape((-1, 100, 100, 3))"
      ],
      "metadata": {
        "colab": {
          "base_uri": "https://localhost:8080/"
        },
        "id": "15h0gPAhkbPE",
        "outputId": "35b949b7-aefc-4ac0-e27e-533d1972ce72"
      },
      "execution_count": null,
      "outputs": [
        {
          "output_type": "stream",
          "name": "stdout",
          "text": [
            "loading directries...\n",
            "making spectrogram array...\n",
            "dataset shape: (8732, 100, 100, 3)\n",
            "making label array...\n",
            "Succeed!\n"
          ]
        }
      ]
    },
    {
      "cell_type": "code",
      "source": [
        "model = CNN()\n",
        "history = model.fit(train_images, train_labels, validation_split=0.1, batch_size=128, epochs=50)"
      ],
      "metadata": {
        "id": "qX6gJsZVq-CZ"
      },
      "execution_count": null,
      "outputs": []
    },
    {
      "cell_type": "code",
      "source": [
        "#https://keras.io/ja/visualization/\n",
        "# Plot training & validation accuracy values\n",
        "plt.plot(history.history['accuracy'])\n",
        "plt.plot(history.history['val_accuracy'])\n",
        "plt.title('Model accuracy')\n",
        "plt.ylabel('Accuracy')\n",
        "plt.xlabel('Epoch')\n",
        "plt.legend(['Train', 'Test'], loc='upper left')\n",
        "plt.show()"
      ],
      "metadata": {
        "colab": {
          "base_uri": "https://localhost:8080/",
          "height": 295
        },
        "id": "Xg-tm-5urSbR",
        "outputId": "36882163-c536-48f8-8d98-a86ebcdf558c"
      },
      "execution_count": null,
      "outputs": [
        {
          "output_type": "display_data",
          "data": {
            "text/plain": [
              "<Figure size 432x288 with 1 Axes>"
            ],
            "image/png": "[encoded data removed]"
          },
          "metadata": {
            "needs_background": "light"
          }
        }
      ]
    },
    {
      "cell_type": "code",
      "source": [
        "test_loss, test_acc = model.evaluate(test_images, test_labels, batch_size=128)\n",
        "print(test_acc)"
      ],
      "metadata": {
        "colab": {
          "base_uri": "https://localhost:8080/"
        },
        "id": "MFhjBBQYrTUR",
        "outputId": "e4a297b1-2378-426f-9bf7-fb1c6bfa0efa"
      },
      "execution_count": null,
      "outputs": [
        {
          "output_type": "stream",
          "name": "stdout",
          "text": [
            "7/7 [==============================] - 0s 16ms/step - loss: 0.9355 - accuracy: 0.8501\n",
            "0.8501144051551819\n"
          ]
        }
      ]
    },
    {
      "cell_type": "markdown",
      "source": [
        "\n",
        "\n",
        "---\n",
        "\n",
        "\n",
        "## 分類器を変更する\n",
        "\n",
        "---\n",
        "\n",
        "\n",
        "////////\n",
        "ここからでも行けるよー\n",
        "////////\n",
        "\n",
        "https://qiita.com/cvusk/items/c4b819d10fca1a2d469b"
      ],
      "metadata": {
        "id": "_OZ3im2K027e"
      }
    },
    {
      "cell_type": "markdown",
      "source": [
        "とりあえずデータセット作ったり、システムに使う関数たち（愛しい）"
      ],
      "metadata": {
        "id": "-jcP4C5o1qM0"
      }
    },
    {
      "cell_type": "code",
      "source": [
        "def load_directories():\n",
        "  #作業用にスペクトログラムたちをアップロード\n",
        "  print('loading directories...')\n",
        "\n",
        "  my_process = run(\n",
        "    ['mkdir', '/content/spectrogram_resized'], # コマンドはスペース区切りではなく、リストで渡す。\n",
        "    shell=False,  # Default が False なので省略可能ですが念の為（False の方が安全）。\n",
        "    stdout=PIPE, stderr=PIPE\n",
        "  )\n",
        "\n",
        "  for i in tqdm(range(1,11)):\n",
        "    i = str(i)\n",
        "    my_process = run(\n",
        "      ['cp', '-r', '/content/drive/My Drive/Colab Notebooks/22-5k_UrbanSound8K/spectrogram_resized/fold' + i + '/', '/content/spectrogram_resized/'], # コマンドはスペース区切りではなく、リストで渡す。\n",
        "      shell=False,  # Default が False なので省略可能ですが念の為（False の方が安全）。\n",
        "      stdout=PIPE, stderr=PIPE\n",
        "    )\n",
        "\n",
        "def load_UrbanSound8K(train_size=0.9):\n",
        "  #以下データセット作成\n",
        "  #まずはCSVからDataFrameを作成して、シャッフル\n",
        "  df = pd.read_csv('/content/drive/My Drive/Colab Notebooks/22-5k_UrbanSound8K/metadata/22-5k_UrbanSound8K.csv')\n",
        "  df_shaffle = df.sample(frac=1, ignore_index=True)\n",
        "\n",
        "  #画像データをndarray化して格納\n",
        "  #ちょっと時間かかるかも？（20秒くらい）\n",
        "  print('making spectrogram array...')\n",
        "  img_path_list = df_shaffle['spectrogram_path']\n",
        "  spectrogram_data_list = []\n",
        "  img_size = (100,100)\n",
        "\n",
        "  for img in tqdm(img_path_list):\n",
        "      temp_img = load_img(img,grayscale=False,target_size=(img_size))\n",
        "      temp_img_array = img_to_array(temp_img) /255\n",
        "      spectrogram_data_list.append(temp_img_array)\n",
        "\n",
        "  spectrogram_data_list = np.array(spectrogram_data_list)\n",
        "  print(f'dataset shape: {spectrogram_data_list.shape}')\n",
        "\n",
        "  #正解ラベル格納\n",
        "  print('making label array...')\n",
        "  labels = df_shaffle['classID']\n",
        "  labels = np.array(labels)\n",
        "\n",
        "  #訓練データとテストデータに分割\n",
        "  #divide_idxまでのデータが訓練データ\n",
        "  divide_idx = int(len(df_shaffle) * train_size)\n",
        "  divide_idx\n",
        "\n",
        "  #分割\n",
        "  train_images = spectrogram_data_list[:divide_idx, :, :, :]\n",
        "  train_labels = labels[:divide_idx]\n",
        "  test_images = spectrogram_data_list[divide_idx:, :, :, :]\n",
        "  test_labels = labels[divide_idx:]\n",
        "\n",
        "  print('Succeed!')\n",
        "\n",
        "  return (train_images, train_labels), (test_images, test_labels)\n",
        "\n",
        "def CNN():\n",
        "  keras.backend.clear_session()\n",
        "\n",
        "  model = models.Sequential()\n",
        "  model.add(layers.Conv2D(8, (3, 3), input_shape=(100, 100, 3)))\n",
        "  model.add(layers.BatchNormalization(axis=1))\n",
        "  model.add(layers.ReLU())\n",
        "  model.add(layers.MaxPooling2D((2, 2)))\n",
        "  model.add(layers.Conv2D(16, (3, 3)))\n",
        "  model.add(layers.BatchNormalization(axis=1))\n",
        "  model.add(layers.ReLU())\n",
        "  model.add(layers.MaxPooling2D((2, 2)))\n",
        "  model.add(layers.Conv2D(32, (3, 3)))\n",
        "  model.add(layers.BatchNormalization(axis=1))\n",
        "  model.add(layers.ReLU())\n",
        "  model.add(layers.Flatten())\n",
        "  model.add(layers.Dense(500))\n",
        "  model.add(layers.ReLU())\n",
        "  model.add(layers.Dense(450))\n",
        "  model.add(layers.ReLU())\n",
        "  model.add(layers.Dense(10))\n",
        "  model.add(Activation('softmax'))\n",
        "\n",
        "  model.summary()\n",
        "\n",
        "  return model\n",
        "\n",
        "def odd_rounding(epoch_num=1):\n",
        "  num = int((450 / 64 ) * epoch_num)\n",
        "  if num%2 == 0:\n",
        "    return num - 1\n",
        "  else:\n",
        "    return num"
      ],
      "metadata": {
        "id": "iSKcOtdp1FpN"
      },
      "execution_count": null,
      "outputs": []
    },
    {
      "cell_type": "markdown",
      "source": [
        "データセット読み込み/CNNインスタンス化"
      ],
      "metadata": {
        "id": "hn32YHCW1xhV"
      }
    },
    {
      "cell_type": "code",
      "source": [
        "#作業ディレクトリ作成\n",
        "load_directories()"
      ],
      "metadata": {
        "colab": {
          "base_uri": "https://localhost:8080/"
        },
        "id": "VTwqt68H7gPD",
        "outputId": "6a103dbb-a90a-4c96-afd1-b4241d1ba15b"
      },
      "execution_count": null,
      "outputs": [
        {
          "output_type": "stream",
          "name": "stdout",
          "text": [
            "loading directories...\n"
          ]
        },
        {
          "output_type": "stream",
          "name": "stderr",
          "text": [
            "100%|██████████| 10/10 [02:01<00:00, 12.13s/it]\n"
          ]
        }
      ]
    },
    {
      "cell_type": "code",
      "source": [
        "#データセット読み込み\n",
        "#インスタンス化\n",
        "(train_images, train_labels), (test_images, test_labels) = load_UrbanSound8K()\n",
        "train_images = train_images.reshape((-1, 100, 100, 3))\n",
        "test_images = test_images.reshape((-1, 100, 100, 3))\n",
        "\n",
        "model = CNN()"
      ],
      "metadata": {
        "id": "nz44btf61WCN",
        "colab": {
          "base_uri": "https://localhost:8080/"
        },
        "outputId": "73790a00-3481-4117-e3db-23043dcad640"
      },
      "execution_count": null,
      "outputs": [
        {
          "output_type": "stream",
          "name": "stdout",
          "text": [
            "making spectrogram array...\n"
          ]
        },
        {
          "output_type": "stream",
          "name": "stderr",
          "text": [
            "100%|██████████| 8732/8732 [00:07<00:00, 1211.68it/s]\n"
          ]
        },
        {
          "output_type": "stream",
          "name": "stdout",
          "text": [
            "dataset shape: (8732, 100, 100, 3)\n",
            "making label array...\n",
            "Succeed!\n",
            "Model: \"sequential\"\n",
            "_________________________________________________________________\n",
            " Layer (type)                Output Shape              Param #   \n",
            "=================================================================\n",
            " conv2d (Conv2D)             (None, 98, 98, 8)         224       \n",
            "                                                                 \n",
            " batch_normalization (BatchN  (None, 98, 98, 8)        392       \n",
            " ormalization)                                                   \n",
            "                                                                 \n",
            " re_lu (ReLU)                (None, 98, 98, 8)         0         \n",
            "                                                                 \n",
            " max_pooling2d (MaxPooling2D  (None, 49, 49, 8)        0         \n",
            " )                                                               \n",
            "                                                                 \n",
            " conv2d_1 (Conv2D)           (None, 47, 47, 16)        1168      \n",
            "                                                                 \n",
            " batch_normalization_1 (Batc  (None, 47, 47, 16)       188       \n",
            " hNormalization)                                                 \n",
            "                                                                 \n",
            " re_lu_1 (ReLU)              (None, 47, 47, 16)        0         \n",
            "                                                                 \n",
            " max_pooling2d_1 (MaxPooling  (None, 23, 23, 16)       0         \n",
            " 2D)                                                             \n",
            "                                                                 \n",
            " conv2d_2 (Conv2D)           (None, 21, 21, 32)        4640      \n",
            "                                                                 \n",
            " batch_normalization_2 (Batc  (None, 21, 21, 32)       84        \n",
            " hNormalization)                                                 \n",
            "                                                                 \n",
            " re_lu_2 (ReLU)              (None, 21, 21, 32)        0         \n",
            "                                                                 \n",
            " flatten (Flatten)           (None, 14112)             0         \n",
            "                                                                 \n",
            " dense (Dense)               (None, 500)               7056500   \n",
            "                                                                 \n",
            " re_lu_3 (ReLU)              (None, 500)               0         \n",
            "                                                                 \n",
            " dense_1 (Dense)             (None, 450)               225450    \n",
            "                                                                 \n",
            " re_lu_4 (ReLU)              (None, 450)               0         \n",
            "                                                                 \n",
            " dense_2 (Dense)             (None, 10)                4510      \n",
            "                                                                 \n",
            " activation (Activation)     (None, 10)                0         \n",
            "                                                                 \n",
            "=================================================================\n",
            "Total params: 7,293,156\n",
            "Trainable params: 7,292,824\n",
            "Non-trainable params: 332\n",
            "_________________________________________________________________\n"
          ]
        }
      ]
    },
    {
      "cell_type": "code",
      "source": [
        "model.compile(optimizer='adam',\n",
        "              loss='sparse_categorical_crossentropy',\n",
        "              metrics=['accuracy'])"
      ],
      "metadata": {
        "id": "7-_ZBJq8_mT5"
      },
      "execution_count": null,
      "outputs": []
    },
    {
      "cell_type": "markdown",
      "source": [
        "学習します"
      ],
      "metadata": {
        "id": "1Jq8o4IqU0vo"
      }
    },
    {
      "cell_type": "code",
      "source": [
        "history = model.fit(train_images, train_labels, validation_split=0.1, batch_size=128, epochs=50)"
      ],
      "metadata": {
        "colab": {
          "base_uri": "https://localhost:8080/"
        },
        "id": "NER3CU63Uusp",
        "outputId": "ec0ed57c-44e0-4658-b60a-f299e87d05bf"
      },
      "execution_count": null,
      "outputs": [
        {
          "output_type": "stream",
          "name": "stdout",
          "text": [
            "Epoch 1/50\n",
            "56/56 [==============================] - 14s 37ms/step - loss: 2.5735 - accuracy: 0.2848 - val_loss: 2.2959 - val_accuracy: 0.1514\n",
            "Epoch 2/50\n",
            "56/56 [==============================] - 2s 29ms/step - loss: 1.3217 - accuracy: 0.5354 - val_loss: 1.7473 - val_accuracy: 0.4249\n",
            "Epoch 3/50\n",
            "56/56 [==============================] - 2s 29ms/step - loss: 1.0980 - accuracy: 0.6257 - val_loss: 1.5663 - val_accuracy: 0.5407\n",
            "Epoch 4/50\n",
            "56/56 [==============================] - 2s 29ms/step - loss: 0.8769 - accuracy: 0.7081 - val_loss: 1.2942 - val_accuracy: 0.6667\n",
            "Epoch 5/50\n",
            "56/56 [==============================] - 2s 29ms/step - loss: 0.6437 - accuracy: 0.7848 - val_loss: 1.0773 - val_accuracy: 0.6654\n",
            "Epoch 6/50\n",
            "56/56 [==============================] - 2s 29ms/step - loss: 0.5184 - accuracy: 0.8225 - val_loss: 0.8468 - val_accuracy: 0.7443\n",
            "Epoch 7/50\n",
            "56/56 [==============================] - 2s 29ms/step - loss: 0.3986 - accuracy: 0.8609 - val_loss: 0.7536 - val_accuracy: 0.7366\n",
            "Epoch 8/50\n",
            "56/56 [==============================] - 2s 29ms/step - loss: 0.3385 - accuracy: 0.8845 - val_loss: 0.7026 - val_accuracy: 0.7659\n",
            "Epoch 9/50\n",
            "56/56 [==============================] - 2s 29ms/step - loss: 0.2746 - accuracy: 0.9061 - val_loss: 0.6592 - val_accuracy: 0.7710\n",
            "Epoch 10/50\n",
            "56/56 [==============================] - 2s 29ms/step - loss: 0.1769 - accuracy: 0.9434 - val_loss: 0.5951 - val_accuracy: 0.8130\n",
            "Epoch 11/50\n",
            "56/56 [==============================] - 2s 30ms/step - loss: 0.1218 - accuracy: 0.9607 - val_loss: 0.6205 - val_accuracy: 0.8181\n",
            "Epoch 12/50\n",
            "56/56 [==============================] - 2s 29ms/step - loss: 0.1140 - accuracy: 0.9631 - val_loss: 0.6469 - val_accuracy: 0.8257\n",
            "Epoch 13/50\n",
            "56/56 [==============================] - 2s 30ms/step - loss: 0.0754 - accuracy: 0.9778 - val_loss: 0.7363 - val_accuracy: 0.8079\n",
            "Epoch 14/50\n",
            "56/56 [==============================] - 2s 29ms/step - loss: 0.0791 - accuracy: 0.9757 - val_loss: 0.6326 - val_accuracy: 0.8168\n",
            "Epoch 15/50\n",
            "56/56 [==============================] - 2s 29ms/step - loss: 0.0427 - accuracy: 0.9891 - val_loss: 0.6956 - val_accuracy: 0.8321\n",
            "Epoch 16/50\n",
            "56/56 [==============================] - 2s 30ms/step - loss: 0.0242 - accuracy: 0.9945 - val_loss: 0.7238 - val_accuracy: 0.8359\n",
            "Epoch 17/50\n",
            "56/56 [==============================] - 2s 30ms/step - loss: 0.0271 - accuracy: 0.9934 - val_loss: 0.7467 - val_accuracy: 0.8282\n",
            "Epoch 18/50\n",
            "56/56 [==============================] - 2s 29ms/step - loss: 0.0312 - accuracy: 0.9901 - val_loss: 0.7349 - val_accuracy: 0.8384\n",
            "Epoch 19/50\n",
            "56/56 [==============================] - 2s 29ms/step - loss: 0.0826 - accuracy: 0.9707 - val_loss: 0.9437 - val_accuracy: 0.8066\n",
            "Epoch 20/50\n",
            "56/56 [==============================] - 2s 30ms/step - loss: 0.0866 - accuracy: 0.9726 - val_loss: 0.9518 - val_accuracy: 0.8168\n",
            "Epoch 21/50\n",
            "56/56 [==============================] - 2s 29ms/step - loss: 0.0877 - accuracy: 0.9713 - val_loss: 0.8732 - val_accuracy: 0.8104\n",
            "Epoch 22/50\n",
            "56/56 [==============================] - 2s 30ms/step - loss: 0.0340 - accuracy: 0.9911 - val_loss: 0.7918 - val_accuracy: 0.8232\n",
            "Epoch 23/50\n",
            "56/56 [==============================] - 2s 29ms/step - loss: 0.0166 - accuracy: 0.9956 - val_loss: 0.7570 - val_accuracy: 0.8397\n",
            "Epoch 24/50\n",
            "56/56 [==============================] - 2s 29ms/step - loss: 0.0314 - accuracy: 0.9898 - val_loss: 0.7830 - val_accuracy: 0.8308\n",
            "Epoch 25/50\n",
            "56/56 [==============================] - 2s 29ms/step - loss: 0.0237 - accuracy: 0.9925 - val_loss: 0.7754 - val_accuracy: 0.8499\n",
            "Epoch 26/50\n",
            "56/56 [==============================] - 2s 30ms/step - loss: 0.0181 - accuracy: 0.9945 - val_loss: 0.8350 - val_accuracy: 0.8511\n",
            "Epoch 27/50\n",
            "56/56 [==============================] - 2s 36ms/step - loss: 0.0051 - accuracy: 0.9989 - val_loss: 0.8649 - val_accuracy: 0.8511\n",
            "Epoch 28/50\n",
            "56/56 [==============================] - 2s 36ms/step - loss: 0.0143 - accuracy: 0.9956 - val_loss: 0.9289 - val_accuracy: 0.8346\n",
            "Epoch 29/50\n",
            "56/56 [==============================] - 2s 30ms/step - loss: 0.0259 - accuracy: 0.9914 - val_loss: 0.9762 - val_accuracy: 0.8104\n",
            "Epoch 30/50\n",
            "56/56 [==============================] - 2s 30ms/step - loss: 0.0177 - accuracy: 0.9955 - val_loss: 0.8750 - val_accuracy: 0.8410\n",
            "Epoch 31/50\n",
            "56/56 [==============================] - 2s 30ms/step - loss: 0.0336 - accuracy: 0.9897 - val_loss: 1.2815 - val_accuracy: 0.7621\n",
            "Epoch 32/50\n",
            "56/56 [==============================] - 2s 30ms/step - loss: 0.0286 - accuracy: 0.9911 - val_loss: 0.9115 - val_accuracy: 0.8333\n",
            "Epoch 33/50\n",
            "56/56 [==============================] - 2s 30ms/step - loss: 0.0391 - accuracy: 0.9874 - val_loss: 0.9483 - val_accuracy: 0.8232\n",
            "Epoch 34/50\n",
            "56/56 [==============================] - 2s 30ms/step - loss: 0.0403 - accuracy: 0.9863 - val_loss: 1.0180 - val_accuracy: 0.8015\n",
            "Epoch 35/50\n",
            "56/56 [==============================] - 2s 30ms/step - loss: 0.0485 - accuracy: 0.9850 - val_loss: 0.9801 - val_accuracy: 0.8193\n",
            "Epoch 36/50\n",
            "56/56 [==============================] - 2s 30ms/step - loss: 0.0337 - accuracy: 0.9895 - val_loss: 1.0871 - val_accuracy: 0.8142\n",
            "Epoch 37/50\n",
            "56/56 [==============================] - 2s 29ms/step - loss: 0.0370 - accuracy: 0.9884 - val_loss: 1.2220 - val_accuracy: 0.8041\n",
            "Epoch 38/50\n",
            "56/56 [==============================] - 2s 30ms/step - loss: 0.0473 - accuracy: 0.9864 - val_loss: 0.9602 - val_accuracy: 0.8219\n",
            "Epoch 39/50\n",
            "56/56 [==============================] - 2s 30ms/step - loss: 0.0431 - accuracy: 0.9864 - val_loss: 1.1412 - val_accuracy: 0.8193\n",
            "Epoch 40/50\n",
            "56/56 [==============================] - 2s 30ms/step - loss: 0.0201 - accuracy: 0.9932 - val_loss: 0.9895 - val_accuracy: 0.8270\n",
            "Epoch 41/50\n",
            "56/56 [==============================] - 2s 30ms/step - loss: 0.0253 - accuracy: 0.9912 - val_loss: 0.8796 - val_accuracy: 0.8448\n",
            "Epoch 42/50\n",
            "56/56 [==============================] - 2s 30ms/step - loss: 0.0218 - accuracy: 0.9926 - val_loss: 1.0777 - val_accuracy: 0.8384\n",
            "Epoch 43/50\n",
            "56/56 [==============================] - 2s 30ms/step - loss: 0.0083 - accuracy: 0.9979 - val_loss: 1.0018 - val_accuracy: 0.8397\n",
            "Epoch 44/50\n",
            "56/56 [==============================] - 2s 30ms/step - loss: 0.0333 - accuracy: 0.9897 - val_loss: 0.9745 - val_accuracy: 0.8295\n",
            "Epoch 45/50\n",
            "56/56 [==============================] - 2s 30ms/step - loss: 0.0116 - accuracy: 0.9970 - val_loss: 0.9490 - val_accuracy: 0.8397\n",
            "Epoch 46/50\n",
            "56/56 [==============================] - 2s 30ms/step - loss: 0.0033 - accuracy: 0.9992 - val_loss: 0.9208 - val_accuracy: 0.8562\n",
            "Epoch 47/50\n",
            "56/56 [==============================] - 2s 29ms/step - loss: 4.4148e-04 - accuracy: 1.0000 - val_loss: 0.9270 - val_accuracy: 0.8486\n",
            "Epoch 48/50\n",
            "56/56 [==============================] - 2s 30ms/step - loss: 1.6967e-04 - accuracy: 1.0000 - val_loss: 0.9369 - val_accuracy: 0.8486\n",
            "Epoch 49/50\n",
            "56/56 [==============================] - 2s 30ms/step - loss: 1.5298e-04 - accuracy: 1.0000 - val_loss: 0.9529 - val_accuracy: 0.8499\n",
            "Epoch 50/50\n",
            "56/56 [==============================] - 2s 29ms/step - loss: 1.1110e-04 - accuracy: 1.0000 - val_loss: 0.9613 - val_accuracy: 0.8511\n"
          ]
        }
      ]
    },
    {
      "cell_type": "code",
      "source": [
        "#https://keras.io/ja/visualization/\n",
        "# Plot training & validation accuracy values\n",
        "plt.plot(history.history['accuracy'])\n",
        "plt.plot(history.history['val_accuracy'])\n",
        "plt.title('Model accuracy')\n",
        "plt.ylabel('Accuracy')\n",
        "plt.xlabel('Epoch')\n",
        "plt.legend(['Train', 'Test'], loc='upper left')\n",
        "plt.show()"
      ],
      "metadata": {
        "colab": {
          "base_uri": "https://localhost:8080/",
          "height": 295
        },
        "id": "ghOq-lUc48Va",
        "outputId": "59388a01-cce4-4400-c705-0f02f9fcc794"
      },
      "execution_count": null,
      "outputs": [
        {
          "output_type": "display_data",
          "data": {
            "text/plain": [
              "<Figure size 432x288 with 1 Axes>"
            ],
            "image/png": "[encoded data removed]"
          },
          "metadata": {
            "needs_background": "light"
          }
        }
      ]
    },
    {
      "cell_type": "markdown",
      "source": [
        "Softmax"
      ],
      "metadata": {
        "id": "tFUvJ8yd4gPC"
      }
    },
    {
      "cell_type": "code",
      "source": [
        "test_loss, test_acc = model.evaluate(test_images, test_labels, batch_size=128)\n",
        "print(test_acc)"
      ],
      "metadata": {
        "colab": {
          "base_uri": "https://localhost:8080/"
        },
        "id": "U6d1WC-o4eMy",
        "outputId": "bc28cc19-294b-4831-db26-61399d4e650d"
      },
      "execution_count": null,
      "outputs": [
        {
          "output_type": "stream",
          "name": "stdout",
          "text": [
            "7/7 [==============================] - 0s 33ms/step - loss: 0.7825 - accuracy: 0.8604\n",
            "0.8604118824005127\n"
          ]
        }
      ]
    },
    {
      "cell_type": "markdown",
      "source": [
        "layer表示"
      ],
      "metadata": {
        "id": "pPujAtfN-z8y"
      }
    },
    {
      "cell_type": "code",
      "source": [
        "from keras import backend as K\n",
        "for l in range(len(model.layers)):\n",
        "    print(l, model.layers[l])"
      ],
      "metadata": {
        "id": "ByclOa18t5XQ",
        "colab": {
          "base_uri": "https://localhost:8080/"
        },
        "outputId": "c12dd838-e4f2-4875-f5f7-ba5de15365d5"
      },
      "execution_count": null,
      "outputs": [
        {
          "output_type": "stream",
          "name": "stdout",
          "text": [
            "0 <keras.layers.convolutional.Conv2D object at 0x7f8f1a2232d0>\n",
            "1 <keras.layers.normalization.batch_normalization.BatchNormalization object at 0x7f8f11f59f90>\n",
            "2 <keras.layers.advanced_activations.ReLU object at 0x7f8f11efc2d0>\n",
            "3 <keras.layers.pooling.MaxPooling2D object at 0x7f8f11efc1d0>\n",
            "4 <keras.layers.convolutional.Conv2D object at 0x7f8f11f41e90>\n",
            "5 <keras.layers.normalization.batch_normalization.BatchNormalization object at 0x7f8f11ea8390>\n",
            "6 <keras.layers.advanced_activations.ReLU object at 0x7f8f11eb4790>\n",
            "7 <keras.layers.pooling.MaxPooling2D object at 0x7f8f11ea8d90>\n",
            "8 <keras.layers.convolutional.Conv2D object at 0x7f8f11eb0710>\n",
            "9 <keras.layers.normalization.batch_normalization.BatchNormalization object at 0x7f8f11e8fb90>\n",
            "10 <keras.layers.advanced_activations.ReLU object at 0x7f8f11ea8490>\n",
            "11 <keras.layers.core.flatten.Flatten object at 0x7f8f11e222d0>\n",
            "12 <keras.layers.core.dense.Dense object at 0x7f8f11e8fc90>\n",
            "13 <keras.layers.advanced_activations.ReLU object at 0x7f8f11e8cd50>\n",
            "14 <keras.layers.core.dense.Dense object at 0x7f8f11e8cb90>\n",
            "15 <keras.layers.advanced_activations.ReLU object at 0x7f8f11e1acd0>\n",
            "16 <keras.layers.core.dense.Dense object at 0x7f8f11e5db90>\n",
            "17 <keras.layers.core.activation.Activation object at 0x7f8f11e205d0>\n"
          ]
        }
      ]
    },
    {
      "cell_type": "markdown",
      "source": [
        "###ソフトマックス関数だけバツっと切って新しい関数にします"
      ],
      "metadata": {
        "id": "P8ikeGa0-2rh"
      }
    },
    {
      "cell_type": "code",
      "source": [
        "getFeature = K.function([model.layers[0].input],[model.layers[16].output])"
      ],
      "metadata": {
        "id": "PnC1DEDlzTDX"
      },
      "execution_count": null,
      "outputs": []
    },
    {
      "cell_type": "markdown",
      "source": [
        "CNNで学習したデータを格納します"
      ],
      "metadata": {
        "id": "Xan5hKgwH8MO"
      }
    },
    {
      "cell_type": "code",
      "source": [
        "exTrain = getFeature(train_images)[0]\n",
        "exTest = getFeature(test_images)[0]"
      ],
      "metadata": {
        "id": "KAUaiCt5GU8m"
      },
      "execution_count": null,
      "outputs": []
    },
    {
      "cell_type": "markdown",
      "source": [
        "sklearnに対応するよう形を変えます"
      ],
      "metadata": {
        "id": "kr__okvJIoYu"
      }
    },
    {
      "cell_type": "code",
      "source": [
        "y_train = train_labels.reshape(train_labels.shape[0],)\n",
        "y_test = test_labels\n",
        "print(exTrain.shape, exTest.shape, y_train.shape, y_test.shape)"
      ],
      "metadata": {
        "colab": {
          "base_uri": "https://localhost:8080/"
        },
        "id": "v38iR_VDGUqf",
        "outputId": "2499e3d0-6076-4420-9c53-5b100ff29b09"
      },
      "execution_count": null,
      "outputs": [
        {
          "output_type": "stream",
          "name": "stdout",
          "text": [
            "(7858, 10) (874, 10) (7858,) (874,)\n"
          ]
        }
      ]
    },
    {
      "cell_type": "code",
      "source": [
        "watch = pd.DataFrame(exTrain)\n",
        "watch"
      ],
      "metadata": {
        "colab": {
          "base_uri": "https://localhost:8080/",
          "height": 488
        },
        "id": "0htRAD6I-77T",
        "outputId": "d2302244-3c48-4efe-e6ad-a492e7613f75"
      },
      "execution_count": null,
      "outputs": [
        {
          "output_type": "execute_result",
          "data": {
            "text/plain": [
              "              0         1          2          3         4          5  \\\n",
              "0     -5.340033 -0.225683  -4.733506   0.675331 -7.210188  -5.136466   \n",
              "1     -1.425707 -9.515041  -0.491808  -7.660938 -4.408597  -2.101576   \n",
              "2     -5.162477  0.093932   1.230278  19.464672  3.769762  -3.468834   \n",
              "3     -0.862351 -0.059057   2.509856   5.675749 -5.123672  -5.596864   \n",
              "4      2.622404  0.141635  -1.098849  -1.181118 -0.658943   0.239681   \n",
              "...         ...       ...        ...        ...       ...        ...   \n",
              "7853  -0.475333 -2.696612  12.303860   4.268476 -6.169731  -2.175844   \n",
              "7854   4.246568 -7.526361  -1.459183   4.382017  2.633555  19.028614   \n",
              "7855  -0.432778 -2.449431   1.570576  -6.039834  3.986494  -3.046299   \n",
              "7856 -11.238596 -6.804419   4.548141  -6.966983  8.105234  -2.154650   \n",
              "7857  -0.648900 -4.550490   7.654743   3.330191 -6.154195   5.838826   \n",
              "\n",
              "              6          7          8          9  \n",
              "0      3.342054   3.135652  -3.060477  16.685158  \n",
              "1    -13.512258  -8.740072   4.876273  20.508627  \n",
              "2      2.710215  -6.124370  -4.496463  -9.108043  \n",
              "3    -11.060357  -9.613229   2.409008  14.454963  \n",
              "4     11.540917  -3.208775 -10.028427  -3.958490  \n",
              "...         ...        ...        ...        ...  \n",
              "7853  -7.241591  -3.717019  -0.124805   8.859193  \n",
              "7854  -6.438814   0.332421  -9.556043  -5.106133  \n",
              "7855  -7.056891  12.531057  -5.322188   1.091670  \n",
              "7856  -3.267669  24.395855 -14.049948   3.446018  \n",
              "7857  -6.842417  -7.222178   1.030349   2.947958  \n",
              "\n",
              "[7858 rows x 10 columns]"
            ],
            "text/html": [
              "\n",
              "  <div id=\"df-be5c4c90-a27a-4943-a1de-adc5eb529385\">\n",
              "    <div class=\"colab-df-container\">\n",
              "      <div>\n",
              "<style scoped>\n",
              "    .dataframe tbody tr th:only-of-type {\n",
              "        vertical-align: middle;\n",
              "    }\n",
              "\n",
              "    .dataframe tbody tr th {\n",
              "        vertical-align: top;\n",
              "    }\n",
              "\n",
              "    .dataframe thead th {\n",
              "        text-align: right;\n",
              "    }\n",
              "</style>\n",
              "<table border=\"1\" class=\"dataframe\">\n",
              "  <thead>\n",
              "    <tr style=\"text-align: right;\">\n",
              "      <th></th>\n",
              "      <th>0</th>\n",
              "      <th>1</th>\n",
              "      <th>2</th>\n",
              "      <th>3</th>\n",
              "      <th>4</th>\n",
              "      <th>5</th>\n",
              "      <th>6</th>\n",
              "      <th>7</th>\n",
              "      <th>8</th>\n",
              "      <th>9</th>\n",
              "    </tr>\n",
              "  </thead>\n",
              "  <tbody>\n",
              "    <tr>\n",
              "      <th>0</th>\n",
              "      <td>-5.340033</td>\n",
              "      <td>-0.225683</td>\n",
              "      <td>-4.733506</td>\n",
              "      <td>0.675331</td>\n",
              "      <td>-7.210188</td>\n",
              "      <td>-5.136466</td>\n",
              "      <td>3.342054</td>\n",
              "      <td>3.135652</td>\n",
              "      <td>-3.060477</td>\n",
              "      <td>16.685158</td>\n",
              "    </tr>\n",
              "    <tr>\n",
              "      <th>1</th>\n",
              "      <td>-1.425707</td>\n",
              "      <td>-9.515041</td>\n",
              "      <td>-0.491808</td>\n",
              "      <td>-7.660938</td>\n",
              "      <td>-4.408597</td>\n",
              "      <td>-2.101576</td>\n",
              "      <td>-13.512258</td>\n",
              "      <td>-8.740072</td>\n",
              "      <td>4.876273</td>\n",
              "      <td>20.508627</td>\n",
              "    </tr>\n",
              "    <tr>\n",
              "      <th>2</th>\n",
              "      <td>-5.162477</td>\n",
              "      <td>0.093932</td>\n",
              "      <td>1.230278</td>\n",
              "      <td>19.464672</td>\n",
              "      <td>3.769762</td>\n",
              "      <td>-3.468834</td>\n",
              "      <td>2.710215</td>\n",
              "      <td>-6.124370</td>\n",
              "      <td>-4.496463</td>\n",
              "      <td>-9.108043</td>\n",
              "    </tr>\n",
              "    <tr>\n",
              "      <th>3</th>\n",
              "      <td>-0.862351</td>\n",
              "      <td>-0.059057</td>\n",
              "      <td>2.509856</td>\n",
              "      <td>5.675749</td>\n",
              "      <td>-5.123672</td>\n",
              "      <td>-5.596864</td>\n",
              "      <td>-11.060357</td>\n",
              "      <td>-9.613229</td>\n",
              "      <td>2.409008</td>\n",
              "      <td>14.454963</td>\n",
              "    </tr>\n",
              "    <tr>\n",
              "      <th>4</th>\n",
              "      <td>2.622404</td>\n",
              "      <td>0.141635</td>\n",
              "      <td>-1.098849</td>\n",
              "      <td>-1.181118</td>\n",
              "      <td>-0.658943</td>\n",
              "      <td>0.239681</td>\n",
              "      <td>11.540917</td>\n",
              "      <td>-3.208775</td>\n",
              "      <td>-10.028427</td>\n",
              "      <td>-3.958490</td>\n",
              "    </tr>\n",
              "    <tr>\n",
              "      <th>...</th>\n",
              "      <td>...</td>\n",
              "      <td>...</td>\n",
              "      <td>...</td>\n",
              "      <td>...</td>\n",
              "      <td>...</td>\n",
              "      <td>...</td>\n",
              "      <td>...</td>\n",
              "      <td>...</td>\n",
              "      <td>...</td>\n",
              "      <td>...</td>\n",
              "    </tr>\n",
              "    <tr>\n",
              "      <th>7853</th>\n",
              "      <td>-0.475333</td>\n",
              "      <td>-2.696612</td>\n",
              "      <td>12.303860</td>\n",
              "      <td>4.268476</td>\n",
              "      <td>-6.169731</td>\n",
              "      <td>-2.175844</td>\n",
              "      <td>-7.241591</td>\n",
              "      <td>-3.717019</td>\n",
              "      <td>-0.124805</td>\n",
              "      <td>8.859193</td>\n",
              "    </tr>\n",
              "    <tr>\n",
              "      <th>7854</th>\n",
              "      <td>4.246568</td>\n",
              "      <td>-7.526361</td>\n",
              "      <td>-1.459183</td>\n",
              "      <td>4.382017</td>\n",
              "      <td>2.633555</td>\n",
              "      <td>19.028614</td>\n",
              "      <td>-6.438814</td>\n",
              "      <td>0.332421</td>\n",
              "      <td>-9.556043</td>\n",
              "      <td>-5.106133</td>\n",
              "    </tr>\n",
              "    <tr>\n",
              "      <th>7855</th>\n",
              "      <td>-0.432778</td>\n",
              "      <td>-2.449431</td>\n",
              "      <td>1.570576</td>\n",
              "      <td>-6.039834</td>\n",
              "      <td>3.986494</td>\n",
              "      <td>-3.046299</td>\n",
              "      <td>-7.056891</td>\n",
              "      <td>12.531057</td>\n",
              "      <td>-5.322188</td>\n",
              "      <td>1.091670</td>\n",
              "    </tr>\n",
              "    <tr>\n",
              "      <th>7856</th>\n",
              "      <td>-11.238596</td>\n",
              "      <td>-6.804419</td>\n",
              "      <td>4.548141</td>\n",
              "      <td>-6.966983</td>\n",
              "      <td>8.105234</td>\n",
              "      <td>-2.154650</td>\n",
              "      <td>-3.267669</td>\n",
              "      <td>24.395855</td>\n",
              "      <td>-14.049948</td>\n",
              "      <td>3.446018</td>\n",
              "    </tr>\n",
              "    <tr>\n",
              "      <th>7857</th>\n",
              "      <td>-0.648900</td>\n",
              "      <td>-4.550490</td>\n",
              "      <td>7.654743</td>\n",
              "      <td>3.330191</td>\n",
              "      <td>-6.154195</td>\n",
              "      <td>5.838826</td>\n",
              "      <td>-6.842417</td>\n",
              "      <td>-7.222178</td>\n",
              "      <td>1.030349</td>\n",
              "      <td>2.947958</td>\n",
              "    </tr>\n",
              "  </tbody>\n",
              "</table>\n",
              "<p>7858 rows × 10 columns</p>\n",
              "</div>\n",
              "      <button class=\"colab-df-convert\" onclick=\"convertToInteractive('df-be5c4c90-a27a-4943-a1de-adc5eb529385')\"\n",
              "              title=\"Convert this dataframe to an interactive table.\"\n",
              "              style=\"display:none;\">\n",
              "        \n",
              "  <svg xmlns=\"http://www.w3.org/2000/svg\" height=\"24px\"viewBox=\"0 0 24 24\"\n",
              "       width=\"24px\">\n",
              "    <path d=\"M0 0h24v24H0V0z\" fill=\"none\"/>\n",
              "    <path d=\"M18.56 5.44l.94 2.06.94-2.06 2.06-.94-2.06-.94-.94-2.06-.94 2.06-2.06.94zm-11 1L8.5 8.5l.94-2.06 2.06-.94-2.06-.94L8.5 2.5l-.94 2.06-2.06.94zm10 10l.94 2.06.94-2.06 2.06-.94-2.06-.94-.94-2.06-.94 2.06-2.06.94z\"/><path d=\"M17.41 7.96l-1.37-1.37c-.4-.4-.92-.59-1.43-.59-.52 0-1.04.2-1.43.59L10.3 9.45l-7.72 7.72c-.78.78-.78 2.05 0 2.83L4 21.41c.39.39.9.59 1.41.59.51 0 1.02-.2 1.41-.59l7.78-7.78 2.81-2.81c.8-.78.8-2.07 0-2.86zM5.41 20L4 18.59l7.72-7.72 1.47 1.35L5.41 20z\"/>\n",
              "  </svg>\n",
              "      </button>\n",
              "      \n",
              "  <style>\n",
              "    .colab-df-container {\n",
              "      display:flex;\n",
              "      flex-wrap:wrap;\n",
              "      gap: 12px;\n",
              "    }\n",
              "\n",
              "    .colab-df-convert {\n",
              "      background-color: #E8F0FE;\n",
              "      border: none;\n",
              "      border-radius: 50%;\n",
              "      cursor: pointer;\n",
              "      display: none;\n",
              "      fill: #1967D2;\n",
              "      height: 32px;\n",
              "      padding: 0 0 0 0;\n",
              "      width: 32px;\n",
              "    }\n",
              "\n",
              "    .colab-df-convert:hover {\n",
              "      background-color: #E2EBFA;\n",
              "      box-shadow: 0px 1px 2px rgba(60, 64, 67, 0.3), 0px 1px 3px 1px rgba(60, 64, 67, 0.15);\n",
              "      fill: #174EA6;\n",
              "    }\n",
              "\n",
              "    [theme=dark] .colab-df-convert {\n",
              "      background-color: #3B4455;\n",
              "      fill: #D2E3FC;\n",
              "    }\n",
              "\n",
              "    [theme=dark] .colab-df-convert:hover {\n",
              "      background-color: #434B5C;\n",
              "      box-shadow: 0px 1px 3px 1px rgba(0, 0, 0, 0.15);\n",
              "      filter: drop-shadow(0px 1px 2px rgba(0, 0, 0, 0.3));\n",
              "      fill: #FFFFFF;\n",
              "    }\n",
              "  </style>\n",
              "\n",
              "      <script>\n",
              "        const buttonEl =\n",
              "          document.querySelector('#df-be5c4c90-a27a-4943-a1de-adc5eb529385 button.colab-df-convert');\n",
              "        buttonEl.style.display =\n",
              "          google.colab.kernel.accessAllowed ? 'block' : 'none';\n",
              "\n",
              "        async function convertToInteractive(key) {\n",
              "          const element = document.querySelector('#df-be5c4c90-a27a-4943-a1de-adc5eb529385');\n",
              "          const dataTable =\n",
              "            await google.colab.kernel.invokeFunction('convertToInteractive',\n",
              "                                                     [key], {});\n",
              "          if (!dataTable) return;\n",
              "\n",
              "          const docLinkHtml = 'Like what you see? Visit the ' +\n",
              "            '<a target=\"_blank\" href=https://colab.research.google.com/notebooks/data_table.ipynb>data table notebook</a>'\n",
              "            + ' to learn more about interactive tables.';\n",
              "          element.innerHTML = '';\n",
              "          dataTable['output_type'] = 'display_data';\n",
              "          await google.colab.output.renderOutput(dataTable, element);\n",
              "          const docLink = document.createElement('div');\n",
              "          docLink.innerHTML = docLinkHtml;\n",
              "          element.appendChild(docLink);\n",
              "        }\n",
              "      </script>\n",
              "    </div>\n",
              "  </div>\n",
              "  "
            ]
          },
          "metadata": {},
          "execution_count": 17
        }
      ]
    },
    {
      "cell_type": "code",
      "source": [
        "y_train"
      ],
      "metadata": {
        "colab": {
          "base_uri": "https://localhost:8080/"
        },
        "id": "PHTn0zL7_c4t",
        "outputId": "e213bfbf-0ee0-405b-f0ea-87af22900e74"
      },
      "execution_count": null,
      "outputs": [
        {
          "output_type": "execute_result",
          "data": {
            "text/plain": [
              "array([9, 9, 3, ..., 7, 7, 9])"
            ]
          },
          "metadata": {},
          "execution_count": 18
        }
      ]
    },
    {
      "cell_type": "markdown",
      "source": [
        "###SVM"
      ],
      "metadata": {
        "id": "emz8wFNMAMOx"
      }
    },
    {
      "cell_type": "markdown",
      "source": [
        "最適ハイパーパラメータ探索\n",
        "GridSearchCV"
      ],
      "metadata": {
        "id": "y7N6AuhP0aDp"
      }
    },
    {
      "cell_type": "code",
      "source": [
        "# import SVC and GridSearchCV\n",
        "from sklearn.svm import SVC\n",
        "from sklearn.model_selection import GridSearchCV\n",
        "\n",
        "# parameters for GridSearchCV\n",
        "parameters = {'kernel':['rbf'],\n",
        "              'C':[1, 10, 100, 1000],\n",
        "              'gamma':[1e-3, 1e-4]}\n",
        "# GridSearchCV\n",
        "clf = GridSearchCV(SVC(), parameters)\n",
        "clf.fit(exTrain, y_train)\n",
        "print('clf.best_params_', clf.best_params_)\n",
        "print('clf.best_score_', clf.best_score_)\n"
      ],
      "metadata": {
        "colab": {
          "base_uri": "https://localhost:8080/"
        },
        "id": "QARDtiyTDlR3",
        "outputId": "1a1f9214-d585-49ff-d019-5a8b5cbd33b2"
      },
      "execution_count": null,
      "outputs": [
        {
          "output_type": "stream",
          "name": "stdout",
          "text": [
            "clf.best_params_ {'C': 10, 'gamma': 0.0001, 'kernel': 'rbf'}\n",
            "clf.best_score_ 0.982050702701477\n"
          ]
        }
      ]
    },
    {
      "cell_type": "code",
      "source": [
        "# import SVC and GridSearchCV\n",
        "from sklearn.svm import SVC\n",
        "from sklearn.model_selection import GridSearchCV\n",
        "\n",
        "parameters = {'kernel':['rbf'],\n",
        "              'C':[16, 18, 20, 22, 24],\n",
        "              'gamma':[1e-3, 1e-4]}\n",
        "\n",
        "clf = GridSearchCV(SVC(), parameters)\n",
        "clf.fit(exTrain, y_train)\n",
        "print('clf.best_params_', clf.best_params_)\n",
        "print('clf.best_score_', clf.best_score_)"
      ],
      "metadata": {
        "colab": {
          "base_uri": "https://localhost:8080/"
        },
        "id": "mdkDwW3f1frK",
        "outputId": "b1f9e1e7-e203-417e-822e-353e2195df8c"
      },
      "execution_count": null,
      "outputs": [
        {
          "output_type": "stream",
          "name": "stdout",
          "text": [
            "clf.best_params_ {'C': 24, 'gamma': 0.0001, 'kernel': 'rbf'}\n",
            "clf.best_score_ 0.9856142584341183\n"
          ]
        }
      ]
    },
    {
      "cell_type": "markdown",
      "source": [
        "祝・最適パラメータゲット→実装"
      ],
      "metadata": {
        "id": "rc5562Ya0vYd"
      }
    },
    {
      "cell_type": "code",
      "source": [
        "# train SVC with searched paramters\n",
        "svmclf = clf.best_estimator_\n",
        "svmclf.fit(exTrain, y_train)\n",
        "\n",
        "# predict test data\n",
        "y_testSVM = svmclf.predict(exTest)\n",
        "\n",
        "# get metrics\n",
        "from sklearn.metrics import confusion_matrix, classification_report, accuracy_score\n",
        "\n",
        "print(classification_report(y_test, y_testSVM))\n",
        "print(\"Accuracy: {0}\".format(accuracy_score(y_test, y_testSVM)))"
      ],
      "metadata": {
        "colab": {
          "base_uri": "https://localhost:8080/"
        },
        "id": "lZpJhu8m0Rkq",
        "outputId": "b35adb6e-06e0-4a33-b12b-789bb35e4eda"
      },
      "execution_count": null,
      "outputs": [
        {
          "output_type": "stream",
          "name": "stdout",
          "text": [
            "              precision    recall  f1-score   support\n",
            "\n",
            "           0       0.92      0.94      0.93        93\n",
            "           1       0.84      0.78      0.81        41\n",
            "           2       0.66      0.73      0.69        82\n",
            "           3       0.92      0.79      0.85        97\n",
            "           4       0.93      0.88      0.90       107\n",
            "           5       0.85      0.93      0.89       110\n",
            "           6       0.86      0.97      0.91        33\n",
            "           7       0.94      0.92      0.93       106\n",
            "           8       0.91      0.92      0.91       106\n",
            "           9       0.72      0.72      0.72        99\n",
            "\n",
            "    accuracy                           0.86       874\n",
            "   macro avg       0.86      0.86      0.85       874\n",
            "weighted avg       0.86      0.86      0.86       874\n",
            "\n",
            "Accuracy: 0.8569794050343249\n"
          ]
        }
      ]
    },
    {
      "cell_type": "markdown",
      "source": [
        "###RandomForest"
      ],
      "metadata": {
        "id": "ph4E1xn3AOxy"
      }
    },
    {
      "cell_type": "code",
      "source": [
        "# import RandomForestClassifier and GridSearchCV\n",
        "from sklearn.ensemble import RandomForestClassifier\n",
        "from sklearn.model_selection import GridSearchCV\n",
        "\n",
        "# parameters for GridSearchCV\n",
        "parameters = {\"max_depth\": [None],\n",
        "              \"max_features\": [1],\n",
        "              \"min_samples_split\": [1.0, 3, 10],\n",
        "              \"min_samples_leaf\": [1],\n",
        "              \"bootstrap\": [True, False],\n",
        "              \"criterion\": [\"gini\", \"entropy\"],\n",
        "              \"n_estimators\": [10, 20, 50]}\n",
        "# GridSearchCV\n",
        "rclf = RandomForestClassifier()\n",
        "rgclf = GridSearchCV(rclf, param_grid=parameters)\n",
        "rgclf.fit(exTrain, y_train)\n",
        "\n",
        "print('rgclf.best_params_', rgclf.best_params_)\n",
        "print('rgclf.best_score_', rgclf.best_score_)\n"
      ],
      "metadata": {
        "id": "0eYSFYipDluf",
        "colab": {
          "base_uri": "https://localhost:8080/"
        },
        "outputId": "4b6d9486-92e5-4442-e26f-f285ab24bdeb"
      },
      "execution_count": null,
      "outputs": [
        {
          "output_type": "stream",
          "name": "stdout",
          "text": [
            "rgclf.best_params_ {'bootstrap': False, 'criterion': 'gini', 'max_depth': None, 'max_features': 1, 'min_samples_leaf': 1, 'min_samples_split': 3, 'n_estimators': 50}\n",
            "rgclf.best_score_ 0.980904935674106\n"
          ]
        }
      ]
    },
    {
      "cell_type": "code",
      "source": [
        "# parameters for GridSearchCV\n",
        "parameters = {\"max_depth\": [None],\n",
        "              \"max_features\": [1],\n",
        "              \"min_samples_split\": [10],\n",
        "              \"min_samples_leaf\": [1],\n",
        "              \"bootstrap\": [True],\n",
        "              \"criterion\": [\"gini\"],\n",
        "              \"n_estimators\": [60, 70, 100]}\n",
        "# GridSearchCV\n",
        "rclf = RandomForestClassifier()\n",
        "rgclf = GridSearchCV(rclf, param_grid=parameters)\n",
        "rgclf.fit(exTrain, y_train)\n",
        "\n",
        "print('rgclf.best_params_', rgclf.best_params_)\n",
        "print('rgclf.best_score_', rgclf.best_score_)\n"
      ],
      "metadata": {
        "colab": {
          "base_uri": "https://localhost:8080/"
        },
        "id": "Xqe0gK8XDr7j",
        "outputId": "83e8cdbb-a571-4883-df27-363de059fa26"
      },
      "execution_count": null,
      "outputs": [
        {
          "output_type": "stream",
          "name": "stdout",
          "text": [
            "rgclf.best_params_ {'bootstrap': True, 'criterion': 'gini', 'max_depth': None, 'max_features': 1, 'min_samples_leaf': 1, 'min_samples_split': 10, 'n_estimators': 100}\n",
            "rgclf.best_score_ 0.9801412529579544\n"
          ]
        }
      ]
    },
    {
      "cell_type": "code",
      "source": [
        "# train RandomForestClassifier with the searched parameter\n",
        "rclf = rgclf.best_estimator_\n",
        "rclf.fit(exTrain, y_train)\n",
        "\n",
        "# predict test data\n",
        "y_testRF = rclf.predict(exTest)\n",
        "\n",
        "# get metrics\n",
        "from sklearn.metrics import confusion_matrix, classification_report, accuracy_score\n",
        "\n",
        "\n",
        "print(classification_report(y_test, y_testRF))\n",
        "print(\"Accuracy: {0}\".format(accuracy_score(y_test, y_testRF)))"
      ],
      "metadata": {
        "colab": {
          "base_uri": "https://localhost:8080/"
        },
        "id": "mN3job7bAHVr",
        "outputId": "2cdfd8b8-6940-4b6d-d060-6dd1e2b9b61e"
      },
      "execution_count": null,
      "outputs": [
        {
          "output_type": "stream",
          "name": "stdout",
          "text": [
            "              precision    recall  f1-score   support\n",
            "\n",
            "           0       0.88      0.90      0.89        94\n",
            "           1       0.84      0.79      0.82        34\n",
            "           2       0.70      0.68      0.69       105\n",
            "           3       0.78      0.69      0.73       100\n",
            "           4       0.93      0.88      0.90       112\n",
            "           5       0.86      0.90      0.88        97\n",
            "           6       0.90      0.92      0.91        39\n",
            "           7       0.92      0.91      0.91        97\n",
            "           8       0.81      0.87      0.84       105\n",
            "           9       0.66      0.71      0.68        91\n",
            "\n",
            "    accuracy                           0.82       874\n",
            "   macro avg       0.83      0.83      0.83       874\n",
            "weighted avg       0.82      0.82      0.82       874\n",
            "\n",
            "Accuracy: 0.8215102974828375\n"
          ]
        }
      ]
    },
    {
      "cell_type": "markdown",
      "source": [
        "###KNN"
      ],
      "metadata": {
        "id": "VN-_2YhpAagC"
      }
    },
    {
      "cell_type": "code",
      "source": [
        "# import KNeighborsClassifier and GridSearchCV\n",
        "from sklearn.neighbors import KNeighborsClassifier\n",
        "from sklearn.model_selection import GridSearchCV\n",
        "\n",
        "# parameters for GridSearchCV\n",
        "parameters = {\"n_neighbors\": [1, 5, 10, 30],\n",
        "              \"weights\": ['uniform'],\n",
        "              \"metric\": ['euclidean'],\n",
        "              \"algorithm\": ['auto']}\n",
        "# GridSearchCV\n",
        "kclf = KNeighborsClassifier()\n",
        "kgclf = GridSearchCV(kclf, param_grid=parameters)\n",
        "kgclf.fit(exTrain, y_train)\n",
        "\n",
        "print('kgclf.best_params_', kgclf.best_params_)\n",
        "print('kgclf.best_score_', kgclf.best_score_)\n"
      ],
      "metadata": {
        "colab": {
          "base_uri": "https://localhost:8080/"
        },
        "id": "WVa9xxQHDmtf",
        "outputId": "914ed90e-2085-4b5f-a93e-fef69e28b2c9"
      },
      "execution_count": null,
      "outputs": [
        {
          "output_type": "stream",
          "name": "stdout",
          "text": [
            "kgclf.best_params_ {'algorithm': 'auto', 'metric': 'euclidean', 'n_neighbors': 30, 'weights': 'uniform'}\n",
            "kgclf.best_score_ 0.9849779641498341\n"
          ]
        }
      ]
    },
    {
      "cell_type": "code",
      "source": [
        "# parameters for GridSearchCV\n",
        "parameters = {\"n_neighbors\": [2, 3, 4, 5, 6],\n",
        "              \"weights\": ['uniform', 'distance'],\n",
        "              \"metric\": ['minkowski'],\n",
        "              \"algorithm\": ['auto']}\n",
        "# GridSearchCV\n",
        "kclf = KNeighborsClassifier()\n",
        "kgclf = GridSearchCV(kclf, param_grid=parameters)\n",
        "kgclf.fit(exTrain, y_train)\n",
        "\n",
        "print('kgclf.best_params_', kgclf.best_params_)\n",
        "print('kgclf.best_score_', kgclf.best_score_)"
      ],
      "metadata": {
        "id": "1L08YKfz-6AD",
        "colab": {
          "base_uri": "https://localhost:8080/"
        },
        "outputId": "a10be5fb-e859-4f83-9ea5-7552a685fbec"
      },
      "execution_count": null,
      "outputs": [
        {
          "output_type": "stream",
          "name": "stdout",
          "text": [
            "kgclf.best_params_ {'algorithm': 'auto', 'metric': 'minkowski', 'n_neighbors': 4, 'weights': 'distance'}\n",
            "kgclf.best_score_ 0.985614420402881\n"
          ]
        }
      ]
    },
    {
      "cell_type": "code",
      "source": [
        "# train KNeighborsClassifier with the searched parameter\n",
        "kclf = kgclf.best_estimator_\n",
        "kclf.fit(exTrain, y_train)\n",
        "\n",
        "# predict test data\n",
        "y_testKNN = kclf.predict(exTest)\n",
        "\n",
        "# get metrics\n",
        "from sklearn.metrics import confusion_matrix, classification_report, accuracy_score\n",
        "\n",
        "print(classification_report(y_test, y_testKNN))\n",
        "print(\"Accuracy: {0}\".format(accuracy_score(y_test, y_testKNN)))"
      ],
      "metadata": {
        "colab": {
          "base_uri": "https://localhost:8080/"
        },
        "id": "50jurZ9Y-D7y",
        "outputId": "68a9e8f8-4023-435f-b7ee-7b3e9766fdb1"
      },
      "execution_count": null,
      "outputs": [
        {
          "output_type": "stream",
          "name": "stdout",
          "text": [
            "              precision    recall  f1-score   support\n",
            "\n",
            "           0       0.92      0.92      0.92        93\n",
            "           1       0.87      0.80      0.84        41\n",
            "           2       0.67      0.80      0.73        82\n",
            "           3       0.94      0.79      0.86        97\n",
            "           4       0.94      0.91      0.92       107\n",
            "           5       0.89      0.93      0.91       110\n",
            "           6       0.86      0.97      0.91        33\n",
            "           7       0.93      0.94      0.94       106\n",
            "           8       0.93      0.92      0.93       106\n",
            "           9       0.75      0.74      0.74        99\n",
            "\n",
            "    accuracy                           0.87       874\n",
            "   macro avg       0.87      0.87      0.87       874\n",
            "weighted avg       0.88      0.87      0.88       874\n",
            "\n",
            "Accuracy: 0.8741418764302059\n"
          ]
        }
      ]
    },
    {
      "cell_type": "markdown",
      "source": [
        "###アンサンブルknn\n",
        "バツっと切るところから"
      ],
      "metadata": {
        "id": "mw9u1RuU1H5x"
      }
    },
    {
      "cell_type": "code",
      "source": [
        "# import KNeighborsClassifier and GridSearchCV\n",
        "from sklearn.neighbors import KNeighborsClassifier"
      ],
      "metadata": {
        "id": "Idj6rFPSvV4O"
      },
      "execution_count": null,
      "outputs": []
    },
    {
      "cell_type": "code",
      "source": [
        "getFeature = K.function([model.layers[0].input],[model.layers[14].output])"
      ],
      "metadata": {
        "id": "26qgBemoD1_1"
      },
      "execution_count": null,
      "outputs": []
    },
    {
      "cell_type": "code",
      "source": [
        "exTrain = getFeature(train_images)[0]\n",
        "exTest = getFeature(test_images)[0]"
      ],
      "metadata": {
        "id": "HyLafAdAD4mj"
      },
      "execution_count": null,
      "outputs": []
    },
    {
      "cell_type": "code",
      "source": [
        "y_train = train_labels.reshape(train_labels.shape[0],)\n",
        "y_test = test_labels\n",
        "print(exTrain.shape, exTest.shape, y_train.shape, y_test.shape)"
      ],
      "metadata": {
        "colab": {
          "base_uri": "https://localhost:8080/"
        },
        "id": "ODdNbHZtD9mz",
        "outputId": "a1d24c20-8973-4d7a-d808-efff3ae21353"
      },
      "execution_count": null,
      "outputs": [
        {
          "output_type": "stream",
          "name": "stdout",
          "text": [
            "(7858, 450) (874, 450) (7858,) (874,)\n"
          ]
        }
      ]
    },
    {
      "cell_type": "code",
      "source": [
        "#訓練データ\n",
        "watch = pd.DataFrame(exTrain)\n",
        "watch"
      ],
      "metadata": {
        "id": "BYxtsZNtD_rd"
      },
      "execution_count": null,
      "outputs": []
    },
    {
      "cell_type": "code",
      "source": [
        "#テストデータ\n",
        "watch_test = pd.DataFrame(exTest)\n",
        "watch_test"
      ],
      "metadata": {
        "id": "ixH-Ff-UvwSu"
      },
      "execution_count": null,
      "outputs": []
    },
    {
      "cell_type": "code",
      "source": [
        "#KNN読み込み\n",
        "parameters = {\"n_neighbors\": [1],\n",
        "              \"weights\": ['uniform'],\n",
        "              \"metric\": ['euclidean'],\n",
        "              \"algorithm\": ['auto']}\n",
        "\n",
        "kclf = KNeighborsClassifier()"
      ],
      "metadata": {
        "id": "p0m-v9Z8wjR-"
      },
      "execution_count": null,
      "outputs": []
    },
    {
      "cell_type": "markdown",
      "source": [
        "弱KNN学習"
      ],
      "metadata": {
        "id": "VA2QlP3TmNeW"
      }
    },
    {
      "cell_type": "markdown",
      "source": [
        "ループ処理でまとめてみました"
      ],
      "metadata": {
        "id": "TlOwgKGTvMCe"
      }
    },
    {
      "cell_type": "code",
      "source": [
        "#空の投票器作成(初期化)\n",
        "ensamble = pd.DataFrame()\n",
        "ensamble\n",
        "\n",
        "for i in tqdm(range(odd_rounding(epoch_num=1))):\n",
        "  ##部分空間抽出\n",
        "  ##train data\n",
        "  get_random = watch.sample(axis=1, n=64, random_state=i)\n",
        "  sample_train = get_random.to_numpy()\n",
        "  #print(f'sample_train.shape {sample_train.shape}')\n",
        "\n",
        "  ##test data\n",
        "  get_random_test = watch_test.sample(axis=1, n=64, random_state=i)\n",
        "  sample_test = get_random_test.to_numpy()\n",
        "  #print(f'sample_test.shape {sample_test.shape}')\n",
        "\n",
        "  ##弱KNN　学習\n",
        "  kclf.fit(sample_train, y_train)\n",
        "  ## 稼働\n",
        "  y_testKNN = kclf.predict(sample_test)\n",
        "\n",
        "  ##投票器に追加\n",
        "  ensamble[i] = y_testKNN\n",
        "\n",
        "ensamble"
      ],
      "metadata": {
        "colab": {
          "base_uri": "https://localhost:8080/",
          "height": 441
        },
        "id": "qypbas4lvJe9",
        "outputId": "76ba0e62-c3d0-4b0c-a208-77fd34a7798f"
      },
      "execution_count": null,
      "outputs": [
        {
          "output_type": "stream",
          "name": "stderr",
          "text": [
            "100%|██████████| 7/7 [00:01<00:00,  5.29it/s]\n"
          ]
        },
        {
          "output_type": "execute_result",
          "data": {
            "text/plain": [
              "     0  1  2  3  4  5  6\n",
              "0    1  1  1  1  1  1  1\n",
              "1    7  7  7  7  7  7  7\n",
              "2    4  4  4  4  4  4  4\n",
              "3    3  3  3  3  3  3  3\n",
              "4    4  4  4  4  4  4  4\n",
              "..  .. .. .. .. .. .. ..\n",
              "869  5  5  5  5  5  5  5\n",
              "870  8  8  8  8  8  8  8\n",
              "871  6  6  6  6  6  6  6\n",
              "872  0  0  0  0  0  0  0\n",
              "873  7  7  7  7  7  7  7\n",
              "\n",
              "[874 rows x 7 columns]"
            ],
            "text/html": [
              "\n",
              "  <div id=\"df-715128cb-9af2-420e-969c-e3db5fc3d62f\">\n",
              "    <div class=\"colab-df-container\">\n",
              "      <div>\n",
              "<style scoped>\n",
              "    .dataframe tbody tr th:only-of-type {\n",
              "        vertical-align: middle;\n",
              "    }\n",
              "\n",
              "    .dataframe tbody tr th {\n",
              "        vertical-align: top;\n",
              "    }\n",
              "\n",
              "    .dataframe thead th {\n",
              "        text-align: right;\n",
              "    }\n",
              "</style>\n",
              "<table border=\"1\" class=\"dataframe\">\n",
              "  <thead>\n",
              "    <tr style=\"text-align: right;\">\n",
              "      <th></th>\n",
              "      <th>0</th>\n",
              "      <th>1</th>\n",
              "      <th>2</th>\n",
              "      <th>3</th>\n",
              "      <th>4</th>\n",
              "      <th>5</th>\n",
              "      <th>6</th>\n",
              "    </tr>\n",
              "  </thead>\n",
              "  <tbody>\n",
              "    <tr>\n",
              "      <th>0</th>\n",
              "      <td>1</td>\n",
              "      <td>1</td>\n",
              "      <td>1</td>\n",
              "      <td>1</td>\n",
              "      <td>1</td>\n",
              "      <td>1</td>\n",
              "      <td>1</td>\n",
              "    </tr>\n",
              "    <tr>\n",
              "      <th>1</th>\n",
              "      <td>7</td>\n",
              "      <td>7</td>\n",
              "      <td>7</td>\n",
              "      <td>7</td>\n",
              "      <td>7</td>\n",
              "      <td>7</td>\n",
              "      <td>7</td>\n",
              "    </tr>\n",
              "    <tr>\n",
              "      <th>2</th>\n",
              "      <td>4</td>\n",
              "      <td>4</td>\n",
              "      <td>4</td>\n",
              "      <td>4</td>\n",
              "      <td>4</td>\n",
              "      <td>4</td>\n",
              "      <td>4</td>\n",
              "    </tr>\n",
              "    <tr>\n",
              "      <th>3</th>\n",
              "      <td>3</td>\n",
              "      <td>3</td>\n",
              "      <td>3</td>\n",
              "      <td>3</td>\n",
              "      <td>3</td>\n",
              "      <td>3</td>\n",
              "      <td>3</td>\n",
              "    </tr>\n",
              "    <tr>\n",
              "      <th>4</th>\n",
              "      <td>4</td>\n",
              "      <td>4</td>\n",
              "      <td>4</td>\n",
              "      <td>4</td>\n",
              "      <td>4</td>\n",
              "      <td>4</td>\n",
              "      <td>4</td>\n",
              "    </tr>\n",
              "    <tr>\n",
              "      <th>...</th>\n",
              "      <td>...</td>\n",
              "      <td>...</td>\n",
              "      <td>...</td>\n",
              "      <td>...</td>\n",
              "      <td>...</td>\n",
              "      <td>...</td>\n",
              "      <td>...</td>\n",
              "    </tr>\n",
              "    <tr>\n",
              "      <th>869</th>\n",
              "      <td>5</td>\n",
              "      <td>5</td>\n",
              "      <td>5</td>\n",
              "      <td>5</td>\n",
              "      <td>5</td>\n",
              "      <td>5</td>\n",
              "      <td>5</td>\n",
              "    </tr>\n",
              "    <tr>\n",
              "      <th>870</th>\n",
              "      <td>8</td>\n",
              "      <td>8</td>\n",
              "      <td>8</td>\n",
              "      <td>8</td>\n",
              "      <td>8</td>\n",
              "      <td>8</td>\n",
              "      <td>8</td>\n",
              "    </tr>\n",
              "    <tr>\n",
              "      <th>871</th>\n",
              "      <td>6</td>\n",
              "      <td>6</td>\n",
              "      <td>6</td>\n",
              "      <td>6</td>\n",
              "      <td>6</td>\n",
              "      <td>6</td>\n",
              "      <td>6</td>\n",
              "    </tr>\n",
              "    <tr>\n",
              "      <th>872</th>\n",
              "      <td>0</td>\n",
              "      <td>0</td>\n",
              "      <td>0</td>\n",
              "      <td>0</td>\n",
              "      <td>0</td>\n",
              "      <td>0</td>\n",
              "      <td>0</td>\n",
              "    </tr>\n",
              "    <tr>\n",
              "      <th>873</th>\n",
              "      <td>7</td>\n",
              "      <td>7</td>\n",
              "      <td>7</td>\n",
              "      <td>7</td>\n",
              "      <td>7</td>\n",
              "      <td>7</td>\n",
              "      <td>7</td>\n",
              "    </tr>\n",
              "  </tbody>\n",
              "</table>\n",
              "<p>874 rows × 7 columns</p>\n",
              "</div>\n",
              "      <button class=\"colab-df-convert\" onclick=\"convertToInteractive('df-715128cb-9af2-420e-969c-e3db5fc3d62f')\"\n",
              "              title=\"Convert this dataframe to an interactive table.\"\n",
              "              style=\"display:none;\">\n",
              "        \n",
              "  <svg xmlns=\"http://www.w3.org/2000/svg\" height=\"24px\"viewBox=\"0 0 24 24\"\n",
              "       width=\"24px\">\n",
              "    <path d=\"M0 0h24v24H0V0z\" fill=\"none\"/>\n",
              "    <path d=\"M18.56 5.44l.94 2.06.94-2.06 2.06-.94-2.06-.94-.94-2.06-.94 2.06-2.06.94zm-11 1L8.5 8.5l.94-2.06 2.06-.94-2.06-.94L8.5 2.5l-.94 2.06-2.06.94zm10 10l.94 2.06.94-2.06 2.06-.94-2.06-.94-.94-2.06-.94 2.06-2.06.94z\"/><path d=\"M17.41 7.96l-1.37-1.37c-.4-.4-.92-.59-1.43-.59-.52 0-1.04.2-1.43.59L10.3 9.45l-7.72 7.72c-.78.78-.78 2.05 0 2.83L4 21.41c.39.39.9.59 1.41.59.51 0 1.02-.2 1.41-.59l7.78-7.78 2.81-2.81c.8-.78.8-2.07 0-2.86zM5.41 20L4 18.59l7.72-7.72 1.47 1.35L5.41 20z\"/>\n",
              "  </svg>\n",
              "      </button>\n",
              "      \n",
              "  <style>\n",
              "    .colab-df-container {\n",
              "      display:flex;\n",
              "      flex-wrap:wrap;\n",
              "      gap: 12px;\n",
              "    }\n",
              "\n",
              "    .colab-df-convert {\n",
              "      background-color: #E8F0FE;\n",
              "      border: none;\n",
              "      border-radius: 50%;\n",
              "      cursor: pointer;\n",
              "      display: none;\n",
              "      fill: #1967D2;\n",
              "      height: 32px;\n",
              "      padding: 0 0 0 0;\n",
              "      width: 32px;\n",
              "    }\n",
              "\n",
              "    .colab-df-convert:hover {\n",
              "      background-color: #E2EBFA;\n",
              "      box-shadow: 0px 1px 2px rgba(60, 64, 67, 0.3), 0px 1px 3px 1px rgba(60, 64, 67, 0.15);\n",
              "      fill: #174EA6;\n",
              "    }\n",
              "\n",
              "    [theme=dark] .colab-df-convert {\n",
              "      background-color: #3B4455;\n",
              "      fill: #D2E3FC;\n",
              "    }\n",
              "\n",
              "    [theme=dark] .colab-df-convert:hover {\n",
              "      background-color: #434B5C;\n",
              "      box-shadow: 0px 1px 3px 1px rgba(0, 0, 0, 0.15);\n",
              "      filter: drop-shadow(0px 1px 2px rgba(0, 0, 0, 0.3));\n",
              "      fill: #FFFFFF;\n",
              "    }\n",
              "  </style>\n",
              "\n",
              "      <script>\n",
              "        const buttonEl =\n",
              "          document.querySelector('#df-715128cb-9af2-420e-969c-e3db5fc3d62f button.colab-df-convert');\n",
              "        buttonEl.style.display =\n",
              "          google.colab.kernel.accessAllowed ? 'block' : 'none';\n",
              "\n",
              "        async function convertToInteractive(key) {\n",
              "          const element = document.querySelector('#df-715128cb-9af2-420e-969c-e3db5fc3d62f');\n",
              "          const dataTable =\n",
              "            await google.colab.kernel.invokeFunction('convertToInteractive',\n",
              "                                                     [key], {});\n",
              "          if (!dataTable) return;\n",
              "\n",
              "          const docLinkHtml = 'Like what you see? Visit the ' +\n",
              "            '<a target=\"_blank\" href=https://colab.research.google.com/notebooks/data_table.ipynb>data table notebook</a>'\n",
              "            + ' to learn more about interactive tables.';\n",
              "          element.innerHTML = '';\n",
              "          dataTable['output_type'] = 'display_data';\n",
              "          await google.colab.output.renderOutput(dataTable, element);\n",
              "          const docLink = document.createElement('div');\n",
              "          docLink.innerHTML = docLinkHtml;\n",
              "          element.appendChild(docLink);\n",
              "        }\n",
              "      </script>\n",
              "    </div>\n",
              "  </div>\n",
              "  "
            ]
          },
          "metadata": {},
          "execution_count": 47
        }
      ]
    },
    {
      "cell_type": "markdown",
      "source": [
        "投票"
      ],
      "metadata": {
        "id": "o6DKU-ar1v-e"
      }
    },
    {
      "cell_type": "code",
      "source": [
        "vote_value = ensamble.mode(axis=1)[0].astype(int).to_numpy()"
      ],
      "metadata": {
        "id": "qIpbM1GV1vAe"
      },
      "execution_count": null,
      "outputs": []
    },
    {
      "cell_type": "markdown",
      "source": [
        "判定(accuracy)"
      ],
      "metadata": {
        "id": "Ha5B1b2N44qn"
      }
    },
    {
      "cell_type": "code",
      "source": [
        "acc_check = y_test - vote_value\n",
        "KNN_ensamble_accuracy = (len(acc_check) - np.count_nonzero(acc_check)) / len(acc_check)\n",
        "print(f'Random Subspace KNN ensamble Classifier\\nAccuracy: {KNN_ensamble_accuracy}')"
      ],
      "metadata": {
        "colab": {
          "base_uri": "https://localhost:8080/"
        },
        "id": "f-LsmT-b4csm",
        "outputId": "c0ca3c84-6b0f-46df-ef61-c4ed344517e9"
      },
      "execution_count": null,
      "outputs": [
        {
          "output_type": "stream",
          "name": "stdout",
          "text": [
            "Random Subspace KNN ensamble Classifier\n",
            "Accuracy: 0.8558352402745996\n"
          ]
        }
      ]
    },
    {
      "cell_type": "markdown",
      "source": [
        "###EPOCH数増やしてみる"
      ],
      "metadata": {
        "id": "JeNOk95_KE4n"
      }
    },
    {
      "cell_type": "code",
      "source": [
        "# import KNeighborsClassifier and GridSearchCV\n",
        "from sklearn.neighbors import KNeighborsClassifier\n",
        "\n",
        "getFeature = K.function([model.layers[0].input],[model.layers[14].output])\n",
        "\n",
        "exTrain = getFeature(train_images)[0]\n",
        "exTest = getFeature(test_images)[0]\n",
        "\n",
        "y_train = train_labels.reshape(train_labels.shape[0],)\n",
        "y_test = test_labels\n",
        "print(exTrain.shape, exTest.shape, y_train.shape, y_test.shape)\n",
        "\n",
        "#訓練データ\n",
        "watch = pd.DataFrame(exTrain)\n",
        "\n",
        "#テストデータ\n",
        "watch_test = pd.DataFrame(exTest)\n",
        "\n",
        "#KNN読み込み\n",
        "parameters = {\"n_neighbors\": [1],\n",
        "              \"weights\": ['uniform'],\n",
        "              \"metric\": ['euclidean'],\n",
        "              \"algorithm\": ['auto']}\n",
        "\n",
        "kclf = KNeighborsClassifier()\n",
        "\n",
        "#空の投票器作成(初期化)\n",
        "ensamble = pd.DataFrame()\n",
        "\n",
        "#グラフ用のAccuracy list\n",
        "accuracy_list = []\n",
        "\n",
        "for j in range(1,21):\n",
        "  print(f'Epoch{j}')\n",
        "  for i in tqdm(range(odd_rounding(epoch_num=j))):\n",
        "    ##部分空間抽出\n",
        "    ##train data\n",
        "    get_random = watch.sample(axis=1, n=64, random_state=i)\n",
        "    sample_train = get_random.to_numpy()\n",
        "    #print(f'sample_train.shape {sample_train.shape}')\n",
        "\n",
        "    ##test data\n",
        "    get_random_test = watch_test.sample(axis=1, n=64, random_state=i)\n",
        "    sample_test = get_random_test.to_numpy()\n",
        "    #print(f'sample_test.shape {sample_test.shape}')\n",
        "\n",
        "    ##弱KNN　学習\n",
        "    kclf.fit(sample_train, y_train)\n",
        "    ## 稼働\n",
        "    y_testKNN = kclf.predict(sample_test)\n",
        "\n",
        "    ##投票器に追加\n",
        "    ensamble[i] = y_testKNN\n",
        "\n",
        "\n",
        "  vote_value = ensamble.mode(axis=1)[0].astype(int).to_numpy()\n",
        "\n",
        "  acc_check = y_test - vote_value\n",
        "  KNN_ensamble_accuracy = (len(acc_check) - np.count_nonzero(acc_check)) / len(acc_check)\n",
        "  print(f'Random Subspace KNN ensamble Classifier\\nAccuracy: {KNN_ensamble_accuracy}\\n')\n",
        "  accuracy_list.append(KNN_ensamble_accuracy)\n"
      ],
      "metadata": {
        "colab": {
          "base_uri": "https://localhost:8080/"
        },
        "id": "4myMcjdVKDQZ",
        "outputId": "f1ba8f04-fe2a-4065-d6a9-dfafcc31c470"
      },
      "execution_count": null,
      "outputs": [
        {
          "output_type": "stream",
          "name": "stdout",
          "text": [
            "(7858, 450) (874, 450) (7858,) (874,)\n",
            "Epoch1\n"
          ]
        },
        {
          "output_type": "stream",
          "name": "stderr",
          "text": [
            "100%|██████████| 7/7 [00:01<00:00,  4.80it/s]\n"
          ]
        },
        {
          "output_type": "stream",
          "name": "stdout",
          "text": [
            "Random Subspace KNN ensamble Classifier\n",
            "Accuracy: 0.8787185354691075\n",
            "\n",
            "Epoch2\n"
          ]
        },
        {
          "output_type": "stream",
          "name": "stderr",
          "text": [
            "100%|██████████| 13/13 [00:02<00:00,  4.94it/s]\n"
          ]
        },
        {
          "output_type": "stream",
          "name": "stdout",
          "text": [
            "Random Subspace KNN ensamble Classifier\n",
            "Accuracy: 0.8764302059496567\n",
            "\n",
            "Epoch3\n"
          ]
        },
        {
          "output_type": "stream",
          "name": "stderr",
          "text": [
            "100%|██████████| 21/21 [00:04<00:00,  4.99it/s]\n"
          ]
        },
        {
          "output_type": "stream",
          "name": "stdout",
          "text": [
            "Random Subspace KNN ensamble Classifier\n",
            "Accuracy: 0.8787185354691075\n",
            "\n",
            "Epoch4\n"
          ]
        },
        {
          "output_type": "stream",
          "name": "stderr",
          "text": [
            "100%|██████████| 27/27 [00:05<00:00,  5.01it/s]\n"
          ]
        },
        {
          "output_type": "stream",
          "name": "stdout",
          "text": [
            "Random Subspace KNN ensamble Classifier\n",
            "Accuracy: 0.879862700228833\n",
            "\n",
            "Epoch5\n"
          ]
        },
        {
          "output_type": "stream",
          "name": "stderr",
          "text": [
            "100%|██████████| 35/35 [00:07<00:00,  4.96it/s]\n"
          ]
        },
        {
          "output_type": "stream",
          "name": "stdout",
          "text": [
            "Random Subspace KNN ensamble Classifier\n",
            "Accuracy: 0.8844393592677345\n",
            "\n",
            "Epoch6\n"
          ]
        },
        {
          "output_type": "stream",
          "name": "stderr",
          "text": [
            "100%|██████████| 41/41 [00:08<00:00,  4.96it/s]\n"
          ]
        },
        {
          "output_type": "stream",
          "name": "stdout",
          "text": [
            "Random Subspace KNN ensamble Classifier\n",
            "Accuracy: 0.8844393592677345\n",
            "\n",
            "Epoch7\n"
          ]
        },
        {
          "output_type": "stream",
          "name": "stderr",
          "text": [
            "100%|██████████| 49/49 [00:09<00:00,  5.00it/s]\n"
          ]
        },
        {
          "output_type": "stream",
          "name": "stdout",
          "text": [
            "Random Subspace KNN ensamble Classifier\n",
            "Accuracy: 0.8821510297482837\n",
            "\n",
            "Epoch8\n"
          ]
        },
        {
          "output_type": "stream",
          "name": "stderr",
          "text": [
            "100%|██████████| 55/55 [00:11<00:00,  5.00it/s]\n"
          ]
        },
        {
          "output_type": "stream",
          "name": "stdout",
          "text": [
            "Random Subspace KNN ensamble Classifier\n",
            "Accuracy: 0.8810068649885584\n",
            "\n",
            "Epoch9\n"
          ]
        },
        {
          "output_type": "stream",
          "name": "stderr",
          "text": [
            "100%|██████████| 63/63 [00:12<00:00,  4.95it/s]\n"
          ]
        },
        {
          "output_type": "stream",
          "name": "stdout",
          "text": [
            "Random Subspace KNN ensamble Classifier\n",
            "Accuracy: 0.879862700228833\n",
            "\n",
            "Epoch10\n"
          ]
        },
        {
          "output_type": "stream",
          "name": "stderr",
          "text": [
            "100%|██████████| 69/69 [00:13<00:00,  4.94it/s]\n"
          ]
        },
        {
          "output_type": "stream",
          "name": "stdout",
          "text": [
            "Random Subspace KNN ensamble Classifier\n",
            "Accuracy: 0.8832951945080092\n",
            "\n",
            "Epoch11\n"
          ]
        },
        {
          "output_type": "stream",
          "name": "stderr",
          "text": [
            "100%|██████████| 77/77 [00:15<00:00,  5.02it/s]\n"
          ]
        },
        {
          "output_type": "stream",
          "name": "stdout",
          "text": [
            "Random Subspace KNN ensamble Classifier\n",
            "Accuracy: 0.8832951945080092\n",
            "\n",
            "Epoch12\n"
          ]
        },
        {
          "output_type": "stream",
          "name": "stderr",
          "text": [
            "100%|██████████| 83/83 [00:16<00:00,  5.04it/s]\n"
          ]
        },
        {
          "output_type": "stream",
          "name": "stdout",
          "text": [
            "Random Subspace KNN ensamble Classifier\n",
            "Accuracy: 0.8832951945080092\n",
            "\n",
            "Epoch13\n"
          ]
        },
        {
          "output_type": "stream",
          "name": "stderr",
          "text": [
            "100%|██████████| 91/91 [00:18<00:00,  5.05it/s]\n"
          ]
        },
        {
          "output_type": "stream",
          "name": "stdout",
          "text": [
            "Random Subspace KNN ensamble Classifier\n",
            "Accuracy: 0.8810068649885584\n",
            "\n",
            "Epoch14\n"
          ]
        },
        {
          "output_type": "stream",
          "name": "stderr",
          "text": [
            "100%|██████████| 97/97 [00:19<00:00,  5.04it/s]\n"
          ]
        },
        {
          "output_type": "stream",
          "name": "stdout",
          "text": [
            "Random Subspace KNN ensamble Classifier\n",
            "Accuracy: 0.8810068649885584\n",
            "\n",
            "Epoch15\n"
          ]
        },
        {
          "output_type": "stream",
          "name": "stderr",
          "text": [
            "100%|██████████| 105/105 [00:20<00:00,  5.05it/s]\n"
          ]
        },
        {
          "output_type": "stream",
          "name": "stdout",
          "text": [
            "Random Subspace KNN ensamble Classifier\n",
            "Accuracy: 0.8810068649885584\n",
            "\n",
            "Epoch16\n"
          ]
        },
        {
          "output_type": "stream",
          "name": "stderr",
          "text": [
            "100%|██████████| 111/111 [00:21<00:00,  5.10it/s]\n"
          ]
        },
        {
          "output_type": "stream",
          "name": "stdout",
          "text": [
            "Random Subspace KNN ensamble Classifier\n",
            "Accuracy: 0.8810068649885584\n",
            "\n",
            "Epoch17\n"
          ]
        },
        {
          "output_type": "stream",
          "name": "stderr",
          "text": [
            "100%|██████████| 119/119 [00:23<00:00,  5.09it/s]\n"
          ]
        },
        {
          "output_type": "stream",
          "name": "stdout",
          "text": [
            "Random Subspace KNN ensamble Classifier\n",
            "Accuracy: 0.879862700228833\n",
            "\n",
            "Epoch18\n"
          ]
        },
        {
          "output_type": "stream",
          "name": "stderr",
          "text": [
            "100%|██████████| 125/125 [00:24<00:00,  5.06it/s]\n"
          ]
        },
        {
          "output_type": "stream",
          "name": "stdout",
          "text": [
            "Random Subspace KNN ensamble Classifier\n",
            "Accuracy: 0.8810068649885584\n",
            "\n",
            "Epoch19\n"
          ]
        },
        {
          "output_type": "stream",
          "name": "stderr",
          "text": [
            "100%|██████████| 133/133 [00:26<00:00,  5.07it/s]\n"
          ]
        },
        {
          "output_type": "stream",
          "name": "stdout",
          "text": [
            "Random Subspace KNN ensamble Classifier\n",
            "Accuracy: 0.8810068649885584\n",
            "\n",
            "Epoch20\n"
          ]
        },
        {
          "output_type": "stream",
          "name": "stderr",
          "text": [
            "100%|██████████| 139/139 [00:27<00:00,  5.09it/s]"
          ]
        },
        {
          "output_type": "stream",
          "name": "stdout",
          "text": [
            "Random Subspace KNN ensamble Classifier\n",
            "Accuracy: 0.8810068649885584\n",
            "\n"
          ]
        },
        {
          "output_type": "stream",
          "name": "stderr",
          "text": [
            "\n"
          ]
        }
      ]
    },
    {
      "cell_type": "code",
      "source": [
        "x_axis = range(1, 20+1)\n",
        "plt.plot(x_axis, accuracy_list)\n",
        "plt.title(\"Accuracy(random subspace KNN ensemble classifier)\")\n",
        "plt.xlabel(\"Number of Classifier\")\n",
        "plt.ylabel(\"Accuracy\")\n",
        "plt.ylim(0.8, 0.9)\n",
        "plt.xticks(x_axis)\n",
        "plt.show()\n",
        "print(f'\\nAccuracy(Average): {sum(accuracy_list) / len(accuracy_list)}')"
      ],
      "metadata": {
        "colab": {
          "base_uri": "https://localhost:8080/",
          "height": 330
        },
        "id": "fQOyGraMOceo",
        "outputId": "87c7de12-3669-4752-ad73-f060156020ad"
      },
      "execution_count": null,
      "outputs": [
        {
          "output_type": "display_data",
          "data": {
            "text/plain": [
              "<Figure size 432x288 with 1 Axes>"
            ],
            "image/png": "[encoded data removed]"
          },
          "metadata": {
            "needs_background": "light"
          }
        },
        {
          "output_type": "stream",
          "name": "stdout",
          "text": [
            "\n",
            "Accuracy(Average): 0.8811212814645308\n"
          ]
        }
      ]
    }
  ]
}